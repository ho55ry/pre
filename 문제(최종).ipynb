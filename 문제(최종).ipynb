{
 "cells": [
  {
   "cell_type": "code",
   "execution_count": 32,
   "metadata": {},
   "outputs": [
    {
     "name": "stdout",
     "output_type": "stream",
     "text": [
      "정렬 결과: ['zero', 'child', 'apple', 'Zoo', 'Good', 'Flower']\n",
      "가장 높은 문자열: zero, 가장 낮은 문자열: Flower\n"
     ]
    }
   ],
   "source": [
    "#1. 문자열 리스트를 입력 받아서 내림차순 결과 가장 낮은 문자열과 가장 높은 문자열을 출력하는 함수를 구현하세요.\n",
    "#단어 하나씩 6번 입력받는 방법\n",
    "def 정렬(A):\n",
    "    A.sort(reverse=True)\n",
    "    print(f'정렬 결과 : {A}\\n가장 높은 문자열 : {A[0]}, 가장 낮은 문자열 : {A[-1]}')\n",
    "\n",
    "msg=[]\n",
    "[msg.append(input()) for i in range(6)]\n",
    "정렬(msg)\n"
   ]
  },
  {
   "cell_type": "code",
   "execution_count": 33,
   "metadata": {},
   "outputs": [
    {
     "name": "stdout",
     "output_type": "stream",
     "text": [
      "정렬 결과: ['zero', 'child', 'apple', 'Zoo', 'Good', 'Flower']\n",
      "가장 높은 문자열: zero, 가장 낮은 문자열: Flower\n"
     ]
    }
   ],
   "source": [
    "#1-2 한번에 여러 단어 입력 받는 방법\n",
    "def 정렬(A):\n",
    "    B=sorted(A,reverse=True)\n",
    "    print(f'정렬 결과 : {B}\\n가장 높은 문자열 : {B[0]}, 가장 낮은 문자열 : {B[-1]}')\n",
    "\n",
    "msg=input(\"입력하세요 : \").split(',')\n",
    "정렬(msg)"
   ]
  },
  {
   "cell_type": "code",
   "execution_count": 34,
   "metadata": {},
   "outputs": [
    {
     "name": "stdout",
     "output_type": "stream",
     "text": [
      "\"가나다\"의 인코딩: 0xac000xb0980xb2e4\n",
      "\"가나다\"의 인코딩: 0b10101100000000000b10110000100110000b1011001011100100\n"
     ]
    }
   ],
   "source": [
    "#2. 문자열을 입력하면 UTF-8로 인코딩된 값을 아래와 같이 출력된 함수를 구현해 주세요.\n",
    "def 인코딩(A):\n",
    "    A=[hex(ord(i)) for i in data]\n",
    "    B=[bin(ord(i)) for i in data]\n",
    "    print(f'\\\"{data}\"의 인코딩 : ',*A,sep='')\n",
    "    print(f'\\\"{data}\"의 인코딩 : ',*B,sep='')\n",
    "\n",
    "data=input()\n",
    "인코딩(data)"
   ]
  },
  {
   "cell_type": "code",
   "execution_count": 39,
   "metadata": {},
   "outputs": [
    {
     "name": "stdout",
     "output_type": "stream",
     "text": [
      "\"123,42,98,18\"의 합:  38 , 가장 큰 수:  9 , 가장 작은 수:  1\n",
      "\"1,234\"의 합:  10 , 가장 큰 수:  4 , 가장 작은 수:  1\n"
     ]
    }
   ],
   "source": [
    "#3. 숫자와 콤마로만 이루어진 문자열 data가 주어진다. 이때, data에 포함되어있는 자연 수의 합과 가장 작은 수, 가장 큰 수를 출력하는 함수를 구현하세요.\n",
    "def 계산(A):\n",
    "    B=[]\n",
    "    [B.append(int(i)) for i in A if i.isdigit()]\n",
    "    print(f'\\\"{A}\"의 합 : ',sum(B),', 가장 큰 수 : ',max(B),', 가장 작은 수 : ',min(B))\n",
    "\n",
    "data='123,42,98,18' #input('숫자와 콤마로만 이루어진 문자열 입력: ')\n",
    "계산(data)\n",
    "data='1,234'\n",
    "계산(data)"
   ]
  },
  {
   "cell_type": "code",
   "execution_count": 64,
   "metadata": {},
   "outputs": [
    {
     "name": "stdout",
     "output_type": "stream",
     "text": [
      "1#3#567#91011#13#151617#1920\n",
      "21#23#252627#293031#33#353637#3940\n",
      "41#43#454647#495051#53#555657#5960\n",
      "61#63#656667#697071#73#757677#7980\n",
      "81#83#858687#899091#93#959697#99100\n"
     ]
    }
   ],
   "source": [
    "#4. 2, 4, 8 게임은 숫자의 끝 자리가 2, 4, 8로 끝나는 숫자의 경우 다른 문자로 출력하는 게임으로 아래 조건을 만족하도록 구현하자.\n",
    "num=int(input('숫자 입력 : '))\n",
    "for i in range(1,num+1):\n",
    "    if i%10 in [2,4,8]: print('#',end='')\n",
    "    elif i%20==0: print(i)\n",
    "    else: print(i,end='')"
   ]
  },
  {
   "cell_type": "code",
   "execution_count": 66,
   "metadata": {},
   "outputs": [
    {
     "name": "stdout",
     "output_type": "stream",
     "text": [
      "존재하지 않는 월입니다.\n"
     ]
    }
   ],
   "source": [
    "#5. 월(Month)을 입력 받아 해당 월(Month)의 영어와 계절을 출력하는 코드를 작성하세요.\n",
    "월=int(input('좋아하는 월 입력 : '))\n",
    "mon=['Jan','Feb','Mar','Apr','May','Jun','Jul','Aug','Sep','Oct','Nov','Dec']\n",
    "if 월 in [3,4,5]: print(mon[월-1],'Spring')\n",
    "elif 월 in [6,7,8]: print(mon[월-1],'Summer')\n",
    "elif 월 in [9,10,11]: print(mon[월-1],'Fall')\n",
    "elif 월 in [12,1,2]: print(mon[월-1],'Winter')\n",
    "else: print('존재하지 않는 월입니다.')"
   ]
  },
  {
   "cell_type": "code",
   "execution_count": 76,
   "metadata": {},
   "outputs": [
    {
     "name": "stdout",
     "output_type": "stream",
     "text": [
      "1,234,567$\n"
     ]
    }
   ],
   "source": [
    "#6. 숫자와 화폐단위를 입력 받아 세자리 마다 쉼표(,) 찍어서 출력하는 기능을 구현하세요.\n",
    "def 출력(A):\n",
    "    A=A.split(',')\n",
    "    print(format(int(A[0]), ','),end='')\n",
    "    print(A[1])\n",
    "\n",
    "data='1234567,$' #input('숫자 입력 :(예:1234567,$) ')\n",
    "출력(data)"
   ]
  },
  {
   "cell_type": "code",
   "execution_count": 82,
   "metadata": {},
   "outputs": [
    {
     "name": "stdout",
     "output_type": "stream",
     "text": [
      "8의 약수: 1,2,4,8\n"
     ]
    }
   ],
   "source": [
    "#7. 입력받은 정수에 대한 약수를 출력하는 함수를 만들어 주세요.\n",
    "def 약수(A):\n",
    "    A=int(A); B=[]\n",
    "    for i in range(1,A+1):\n",
    "        if A%i==0: B.append(i)\n",
    "    print(f'{A}의 약수: ',end='')\n",
    "    print(*B,sep=', ')\n",
    "\n",
    "num=input('약수 구하고 싶은 수 : ')\n",
    "약수(num)"
   ]
  }
 ],
 "metadata": {
  "kernelspec": {
   "display_name": "Python 3.11.0 64-bit",
   "language": "python",
   "name": "python3"
  },
  "language_info": {
   "codemirror_mode": {
    "name": "ipython",
    "version": 3
   },
   "file_extension": ".py",
   "mimetype": "text/x-python",
   "name": "python",
   "nbconvert_exporter": "python",
   "pygments_lexer": "ipython3",
   "version": "3.11.0"
  },
  "orig_nbformat": 4,
  "vscode": {
   "interpreter": {
    "hash": "5238573367df39f7286bb46f9ff5f08f63a01a80960060ce41e3c79b190280fa"
   }
  }
 },
 "nbformat": 4,
 "nbformat_minor": 2
}
