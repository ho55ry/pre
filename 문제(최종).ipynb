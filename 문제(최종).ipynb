{
 "cells": [
  {
   "cell_type": "code",
   "execution_count": 178,
   "metadata": {},
   "outputs": [
    {
     "name": "stdout",
     "output_type": "stream",
     "text": [
      "정렬 결과 : ['zero', 'child', 'apple', 'Zoo', 'Good', 'Flower']\n",
      "가장 높은 문자열 : zero, 가장 낮은 문자열 : Flower\n"
     ]
    }
   ],
   "source": [
    "#1. 문자열 리스트를 입력 받아서 내림차순 결과 가장 낮은 문자열과 가장 높은 문자열을 출력하는 함수를 구현하세요.\n",
    "#1-1단어 하나씩 6번 입력받는 방법\n",
    "def 정렬(A):\n",
    "    A.sort(reverse=True)\n",
    "    print(f'정렬 결과 : {A}\\n가장 높은 문자열 : {A[0]}, 가장 낮은 문자열 : {A[-1]}')\n",
    "\n",
    "msg=[]\n",
    "[msg.append(input()) for i in range(6)]\n",
    "정렬(msg)"
   ]
  },
  {
   "cell_type": "code",
   "execution_count": 1,
   "metadata": {},
   "outputs": [
    {
     "name": "stdout",
     "output_type": "stream",
     "text": [
      "정렬 결과 : ['zero', 'child', 'Zoo', 'Supreme', 'Good', 'Flower', 'Bape']\n",
      "가장 높은 문자열 : zero, 가장 낮은 문자열 : Bape\n"
     ]
    }
   ],
   "source": [
    "#1-2 한번에 여러 단어 입력 받는 방법\n",
    "def 정렬(A):\n",
    "    A=A.split(',')\n",
    "    B=sorted(A,reverse=True)\n",
    "    print(f'정렬 결과 : {B}\\n가장 높은 문자열 : {B[0]}, 가장 낮은 문자열 : {B[-1]}')\n",
    "\n",
    "#정렬(input('문자열 입력 : '))\n",
    "문자='Good,child,zero,Zoo,Flower,Bape,Supreme'\n",
    "정렬(문자)"
   ]
  },
  {
   "cell_type": "code",
   "execution_count": 176,
   "metadata": {},
   "outputs": [
    {
     "name": "stdout",
     "output_type": "stream",
     "text": [
      "\"가나다\"의 인코딩 : 0xac000xb0980xb2e4\n",
      "\"가나다\"의 인코딩 : 0b10101100000000000b10110000100110000b1011001011100100\n"
     ]
    }
   ],
   "source": [
    "#2. 문자열을 입력하면 UTF-8로 인코딩된 값을 아래와 같이 출력된 함수를 구현해 주세요.\n",
    "def 인코딩(data):\n",
    "    A=[hex(ord(i)) for i in data]\n",
    "    B=[bin(ord(i)) for i in data]\n",
    "    print(f'\\\"{data}\"의 인코딩 : ',*A,sep='')\n",
    "    print(f'\\\"{data}\"의 인코딩 : ',*B,sep='')\n",
    "\n",
    "인코딩(input('데이터 입력 : '))"
   ]
  },
  {
   "cell_type": "code",
   "execution_count": 2,
   "metadata": {},
   "outputs": [
    {
     "name": "stdout",
     "output_type": "stream",
     "text": [
      "\"1241,2,412,2112\"의 합 :  23 , 가장 큰 수 :  4 , 가장 작은 수 :  1\n",
      "\"123,42,98,18\"의 합 :  38 , 가장 큰 수 :  9 , 가장 작은 수 :  1\n",
      "\"1,234\"의 합 :  10 , 가장 큰 수 :  4 , 가장 작은 수 :  1\n"
     ]
    }
   ],
   "source": [
    "#3. 숫자와 콤마로만 이루어진 문자열 data가 주어진다. 이때, data에 포함되어있는 자연 수의 합과 가장 작은 수, 가장 큰 수를 출력하는 함수를 구현하세요.\n",
    "def 계산(A):\n",
    "    B=[]\n",
    "    [B.append(int(i)) for i in A if i.isdigit()]\n",
    "    print(f'\\\"{A}\"의 합 : ',sum(B),', 가장 큰 수 : ',max(B),', 가장 작은 수 : ',min(B))\n",
    "\n",
    "#계산(input('숫자와 콤마로만 이루어진 문자열 입력: '))\n",
    "계산('123,42,98,18')\n",
    "계산('1,234')"
   ]
  },
  {
   "cell_type": "code",
   "execution_count": null,
   "metadata": {},
   "outputs": [],
   "source": [
    "#3-2 다른 방식\n",
    "def 계산(nums):\n",
    "    A=list(filter(str.isdigit,nums)); B=[]\n",
    "    for i in A: B.append(int(i))\n",
    "    print(f'\\\"{nums}\"의 합 : {sum(B)}, 가장 큰 수 : {max(B)}, 가장 작은 수 : {min(B)}')\n",
    "\n",
    "#계산(input('숫자와 콤마로만 이루어진 문자열 입력 :'))\n",
    "숫자='123,42,98,18'\n",
    "계산(숫자)"
   ]
  },
  {
   "cell_type": "code",
   "execution_count": 64,
   "metadata": {},
   "outputs": [
    {
     "name": "stdout",
     "output_type": "stream",
     "text": [
      "1#3#567#91011#13#151617#1920\n",
      "21#23#252627#293031#33#353637#3940\n",
      "41#43#454647#495051#53#555657#5960\n",
      "61#63#656667#697071#73#757677#7980\n",
      "81#83#858687#899091#93#959697#99100\n"
     ]
    }
   ],
   "source": [
    "#4. 2, 4, 8 게임은 숫자의 끝 자리가 2, 4, 8로 끝나는 숫자의 경우 다른 문자로 출력하는 게임으로 아래 조건을 만족하도록 구현하자.\n",
    "num=int(input('숫자 입력 : '))\n",
    "for i in range(1,num+1):\n",
    "    if i%10 in [2,4,8]: print('#',end='')\n",
    "    elif i%20==0: print(i)\n",
    "    else: print(i,end='')"
   ]
  },
  {
   "cell_type": "code",
   "execution_count": 3,
   "metadata": {},
   "outputs": [
    {
     "name": "stdout",
     "output_type": "stream",
     "text": [
      "1#3#567#91011#13#151617#1920\n",
      "21#23#252627#293031#33#353637#3940\n",
      "1#3#567#91011#13#151617#1920\n",
      "21#23#252627#293031#33#353637#3940\n",
      "41#43#454647#495051#53#555657#5960\n",
      "61#63#656667#697071#73#757677#7980\n",
      "81#83#858687#899091#93#959697#99100\n"
     ]
    }
   ],
   "source": [
    "#4-2 함수 형태\n",
    "def 게임(num):\n",
    "    num=int(num)\n",
    "    for i in range(1,num+1):\n",
    "        if i%10 in [2,4,8]: print('#',end='')\n",
    "        elif i%20==0: print(i)\n",
    "        else: print(i,end='')\n",
    "\n",
    "#게임(input('게임 정수 입력 : '))\n",
    "숫자=100\n",
    "게임(숫자)"
   ]
  },
  {
   "cell_type": "code",
   "execution_count": 4,
   "metadata": {},
   "outputs": [
    {
     "name": "stdout",
     "output_type": "stream",
     "text": [
      "Jul Summer\n"
     ]
    }
   ],
   "source": [
    "#5. 월(Month)을 입력 받아 해당 월(Month)의 영어와 계절을 출력하는 코드를 작성하세요.\n",
    "def 출력(월):\n",
    "    월=int(월)\n",
    "    달=['Jan','Feb','Mar','Apr','May','Jun','Jul','Aug','Sep','Oct','Nov','Dec']\n",
    "    if 월 in [3,4,5]: print(달[월-1],'Spring')\n",
    "    elif 월 in [6,7,8]: print(달[월-1],'Summer')\n",
    "    elif 월 in [9,10,11]: print(달[월-1],'Fall')\n",
    "    elif 월 in [12,1,2]: print(달[월-1],'Winter')\n",
    "    else: print('존재하지 않는 월입니다.')\n",
    "\n",
    "#출력(input('좋아하는 월 입력 : '))\n",
    "월='7'\n",
    "출력(월)"
   ]
  },
  {
   "cell_type": "code",
   "execution_count": 76,
   "metadata": {},
   "outputs": [
    {
     "name": "stdout",
     "output_type": "stream",
     "text": [
      "1,234,567$\n"
     ]
    }
   ],
   "source": [
    "#6. 숫자와 화폐단위를 입력 받아 세자리 마다 쉼표(,) 찍어서 출력하는 기능을 구현하세요.\n",
    "def 출력(A):\n",
    "    A=A.split(',')\n",
    "    print(format(int(A[0]), ','),end='')\n",
    "    print(A[1])\n",
    "\n",
    "data='1234567,$' #input('숫자 입력 :(예:1234567,$) ')\n",
    "출력(data)"
   ]
  },
  {
   "cell_type": "code",
   "execution_count": null,
   "metadata": {},
   "outputs": [],
   "source": [
    "#6-2 다른 방식\n",
    "def 출력(data):\n",
    "    a,b=data.split(', ')\n",
    "    print(format(int(a),','),b,sep='')\n",
    "\n",
    "data='907000, $'\n",
    "출력(data)"
   ]
  },
  {
   "cell_type": "code",
   "execution_count": 169,
   "metadata": {},
   "outputs": [
    {
     "name": "stdout",
     "output_type": "stream",
     "text": [
      "8의 약수: 1, 2, 4, 8\n"
     ]
    }
   ],
   "source": [
    "#7. 입력받은 정수에 대한 약수를 출력하는 함수를 만들어 주세요.\n",
    "def 약수(A):\n",
    "    A=int(A); B=[]\n",
    "    for i in range(1,A+1):\n",
    "        if A%i==0: B.append(i)\n",
    "    print(f'{A}의 약수: ',end='')\n",
    "    print(*B,sep=', ')\n",
    "\n",
    "num=input('약수 구하고 싶은 수 : ')\n",
    "약수(num)"
   ]
  },
  {
   "cell_type": "code",
   "execution_count": 191,
   "metadata": {},
   "outputs": [
    {
     "name": "stdout",
     "output_type": "stream",
     "text": [
      "2, 0, 3\n",
      "0, 1, 3, 7, 8, 2\n"
     ]
    }
   ],
   "source": [
    "#8. 입력 받은 메시지 중에서 중복 없이 숫자만 출력하는 함수를 만들어 주세요.\n",
    "def 출력(text):\n",
    "    A=list(filter(str.isdigit,text))\n",
    "    B=list(dict.fromkeys(A))\n",
    "    print(*B,sep=', ')\n",
    "\n",
    "출력('happy 2023')\n",
    "출력('홍길동 010-3113-0782')"
   ]
  },
  {
   "cell_type": "code",
   "execution_count": 6,
   "metadata": {},
   "outputs": [
    {
     "name": "stdout",
     "output_type": "stream",
     "text": [
      "당신의 한국 나이는 27세 입니다.\n",
      "당신의 외국 나이는 25세 입니다.\n"
     ]
    }
   ],
   "source": [
    "#9. 생일을 입력 받은 후 한국 나이, 외국 나이를 알려주는 함수를 생성해 주세요. \n",
    "def 나이(birth):\n",
    "    A=list(map(int,filter(str.isdigit,birth)))\n",
    "    B=(A[0]*1000+A[1]*100+A[2]*10+A[3])\n",
    "    print(f'당신의 한국 나이는 {2022-B+1}세 입니다.')\n",
    "    if A[4]*10+A[5] <= 12:\n",
    "        if A[6]*10+A[7] < 26:\n",
    "            print(f'당신의 외국 나이는 {2022-B}세 입니다.')\n",
    "        else: print(f'당신의 외국 나이는 {2022-B-1}세 입니다.')\n",
    "    else: print(f'당신의 외국 나이는 {2022-B-1}세 입니다.')\n",
    "\n",
    "birth='1996.12.31'\n",
    "나이(birth)"
   ]
  },
  {
   "cell_type": "code",
   "execution_count": 149,
   "metadata": {},
   "outputs": [
    {
     "name": "stdout",
     "output_type": "stream",
     "text": [
      "7! => 7 * 6 * 5 * 4 * 3 * 2 * 1 = 5040\n"
     ]
    }
   ],
   "source": [
    "#10. 팩토리얼(Factorial)을 while반복문으로 구현해 주세요.\n",
    "#팩토리얼 수를 입력 받아서 팩토리얼 결과를 아래와 같이 출력하세요.\n",
    "i=int(input('팩토리얼 수 입력: '))\n",
    "A=1; B=[]\n",
    "if i==0: print('0! => 0')\n",
    "else:\n",
    "    while i>0:\n",
    "        B.append(i)\n",
    "        A=A*i\n",
    "        i=i-1\n",
    "    print(f'{B[0]}! => ',end='')\n",
    "    print(*B,sep=' * ',end=' = ')\n",
    "    print(A)"
   ]
  },
  {
   "cell_type": "code",
   "execution_count": 7,
   "metadata": {},
   "outputs": [
    {
     "name": "stdout",
     "output_type": "stream",
     "text": [
      "1 ~ 30 범위에서 소수: 2, 3, 5, 7, 11, 13, 17, 19, 23, 29\n"
     ]
    }
   ],
   "source": [
    "#11. 입력받은 숫자 범위 안에서 소수(Prime Number)를 찾아서 반환하는 함수를 생성하세요.\n",
    "def prm(num):\n",
    "    B=[]\n",
    "    for i in range(1,num+1):\n",
    "        A=[]\n",
    "        for j in range(1,i+1):\n",
    "            if i%j==0: A.append(i)\n",
    "        if len(A)==2: B.append(i)\n",
    "    print(f'1 ~ {num} 범위에서 소수: ',end='')\n",
    "    print(*B,sep=', ')    \n",
    "\n",
    "prm(30)\n",
    "#prm(int(input('범위 숫자 입력 : ')))"
   ]
  },
  {
   "cell_type": "code",
   "execution_count": 192,
   "metadata": {},
   "outputs": [
    {
     "name": "stdout",
     "output_type": "stream",
     "text": [
      "[국어] 최고 점수 : 94, 최저 점수 : 77\n",
      "[수학] 최고 점수 : 100, 최저 점수 : 71\n",
      "[윤리] 최고 점수 : 98, 최저 점수 : 80\n",
      "[국사] 최고 점수 : 99, 최저 점수 : 71\n"
     ]
    }
   ],
   "source": [
    "#12. 아래 데이터를 저장합니다. 그리고 과목별 최고점수, 최저점수 출력하세요.\n",
    "국어=[90,82,77,94,78]\n",
    "수학=[89,71,100,82,99]\n",
    "윤리=[98,80,92,93,91]\n",
    "국사=[99,91,90,71,83]\n",
    "과목=[국어,수학,윤리,국사]\n",
    "과목2=['국어','수학','윤리','국사']\n",
    "for i in range(0,len(과목)):\n",
    "    print(f'[{과목2[i]}] 최고 점수 : {max(과목[i])}, 최저 점수 : {min(과목[i])}')"
   ]
  },
  {
   "cell_type": "code",
   "execution_count": 155,
   "metadata": {},
   "outputs": [
    {
     "name": "stdout",
     "output_type": "stream",
     "text": [
      "--[2단]--\t--[3단]--\t--[4단]--\t\n",
      "2*1= 2\t\t3*1= 3\t\t4*1= 4\t\t\n",
      "2*2= 4\t\t3*2= 6\t\t4*2= 8\t\t\n",
      "2*3= 6\t\t3*3= 9\t\t4*3= 12\t\t\n",
      "2*4= 8\t\t3*4= 12\t\t4*4= 16\t\t\n",
      "2*5= 10\t\t3*5= 15\t\t4*5= 20\t\t\n",
      "2*6= 12\t\t3*6= 18\t\t4*6= 24\t\t\n",
      "2*7= 14\t\t3*7= 21\t\t4*7= 28\t\t\n",
      "2*8= 16\t\t3*8= 24\t\t4*8= 32\t\t\n",
      "2*9= 18\t\t3*9= 27\t\t4*9= 36\t\t\n"
     ]
    }
   ],
   "source": [
    "#13. 구구단 n단부터 m단까지를 반복문 1개로 구현하는 함수를 생성하세요.\n",
    "def 구구단(n,m):\n",
    "    a=n; b=1; switch=True\n",
    "    while b != 10:\n",
    "        if switch:\n",
    "            print(f'--[{a}단]--',end='\\t')\n",
    "            a=a+1\n",
    "            if a==m+1: switch=False; a=n; print()\n",
    "        if not switch:\n",
    "            print(f\"{a}*{b}= {a*b}\",end='\\t\\t')\n",
    "            a=a+1\n",
    "            if a==m+1: a=n; b=b+1; print()\n",
    "\n",
    "구구단(2,4)"
   ]
  },
  {
   "cell_type": "code",
   "execution_count": 162,
   "metadata": {},
   "outputs": [
    {
     "name": "stdout",
     "output_type": "stream",
     "text": [
      "숫자 :  12345\n",
      "만의 자리:  1\n",
      "천의 자리:  2\n",
      "백의 자리:  3\n",
      "십의 자리:  4\n",
      "일의 자리:  5\n"
     ]
    }
   ],
   "source": [
    "#14. 입력받은 숫자에서 천자리, 백자리, 십자리, 일자리를 출력하세요.\n",
    "def 출력(num):\n",
    "    print('숫자 : ',num)\n",
    "    A=list(num)\n",
    "    B=['만','천','백','십','일']\n",
    "    for i in range(0,len(A)):\n",
    "        print(f'{B[i]}의 자리: ',A[i])\n",
    "\n",
    "출력('12345')"
   ]
  },
  {
   "cell_type": "code",
   "execution_count": 173,
   "metadata": {},
   "outputs": [
    {
     "name": "stdout",
     "output_type": "stream",
     "text": [
      "None\n",
      "3\n",
      "ABCGood\n",
      "34\n",
      "0\n"
     ]
    }
   ],
   "source": [
    "#15. 정수, 실수, 논리, 문자열 등 데이터 입력 시 모두 덧셈한 결과 출력하는 함수를  생성하세요.\n",
    "def addData(*data):\n",
    "    if len(data)>0:\n",
    "        if isinstance(data[0],str): total=''\n",
    "        else: total=0\n",
    "    else: total=None\n",
    "    for i in data:\n",
    "        total = total + i\n",
    "    print(total)\n",
    "addData()\n",
    "addData(True,True,False,False,True)\n",
    "addData('A','BC','Good')\n",
    "addData(2,9,3,5,8,7)\n",
    "addData(13,-13)"
   ]
  },
  {
   "cell_type": "code",
   "execution_count": 166,
   "metadata": {},
   "outputs": [
    {
     "name": "stdout",
     "output_type": "stream",
     "text": [
      "       *       \n",
      "      ***      \n",
      "     *****     \n",
      "    *******    \n",
      "   *********   \n",
      "  ***********  \n",
      " ************* \n",
      "***************\n",
      "      ****     \n",
      "      ****     \n",
      "Merry Chirstmas\n",
      "      2023     \n"
     ]
    }
   ],
   "source": [
    "#16. 아래 출력결과가 나오도록 코드를 작성하세요.\n",
    "n=1\n",
    "while n<=15:\n",
    "    print(('*'*n).center(15))\n",
    "    n=n+2\n",
    "print(('*'*4).center(15))\n",
    "print(('*'*4).center(15))\n",
    "print(('Merry Chirstmas').center(15))\n",
    "print(('2023').center(15))"
   ]
  },
  {
   "cell_type": "code",
   "execution_count": 167,
   "metadata": {},
   "outputs": [
    {
     "name": "stdout",
     "output_type": "stream",
     "text": [
      "Merry Christmas HaPPy New YEaR\n",
      "=> mERRY cHRISTMAS hAppY nEW yeAr\n"
     ]
    }
   ],
   "source": [
    "#17. 문자열 ‘Merry Christmas HaPPy New YEaR’에서 대문자는 소문자로, 소문자는 대문자로 변환하여 출력하는 코드를 구현하세요.\n",
    "text='Merry Christmas HaPPy New YEaR'\n",
    "A=[i.swapcase() for i in text]\n",
    "print(text,'\\n=> ',*A,sep='')"
   ]
  },
  {
   "cell_type": "code",
   "execution_count": 11,
   "metadata": {},
   "outputs": [
    {
     "name": "stdout",
     "output_type": "stream",
     "text": [
      "Merry Christmas HaPPy New YEaR\n",
      "=> mERRY cHRISTMAS hAppY nEW yeAr\n"
     ]
    }
   ],
   "source": [
    "#17-2 swapcase 안쓰고\n",
    "text='Merry Christmas HaPPy New YEaR'\n",
    "A=[i.lower() if i.isupper() else i.upper() for i in text]\n",
    "print(text,'\\n=> ',*A,sep='')"
   ]
  },
  {
   "cell_type": "code",
   "execution_count": 171,
   "metadata": {},
   "outputs": [
    {
     "name": "stdout",
     "output_type": "stream",
     "text": [
      "덧셈 결과: 7\n",
      "뺄셈 결과: -1\n",
      "곱셈 결과: 12\n",
      "나누기 결과: 0.75\n",
      "몫 결과: 0\n",
      "나머지 결과: 3\n"
     ]
    }
   ],
   "source": [
    "#18. 6가지 연산 결과를 한꺼번에 반환하는 함수를 생성 후 호출하여 결과를 아래와 같이 출력해 주세요.\n",
    "def 연산(num):\n",
    "    A=list(map(int,filter(str.isdigit,num)))\n",
    "    print(f'덧셈 결과: {A[0]+A[1]}')\n",
    "    print(f'뺄셈 결과: {A[0]-A[1]}')\n",
    "    print(f'곱셈 결과: {A[0]*A[1]}')\n",
    "    print(f'나누기 결과: {A[0]/A[1]}')\n",
    "    print(f'몫 결과: {A[0]//A[1]}')\n",
    "    print(f'나머지 결과: {A[0]%A[1]}')\n",
    "연산(input('숫자 2개 입력 (3, 4) : '))"
   ]
  },
  {
   "cell_type": "code",
   "execution_count": 184,
   "metadata": {},
   "outputs": [
    {
     "name": "stdout",
     "output_type": "stream",
     "text": [
      "age => 12\n",
      "id => mm1004\n",
      "name => 마징가\n",
      "job => 히어로\n",
      "phone => 01031130782\n",
      "loc => 대구\n"
     ]
    }
   ],
   "source": [
    "#19. 다양한 사람들로부터 개인정보를 입력받는 함수를 구현하세요.\n",
    "def data(**info):\n",
    "    for key,value in info.items():\n",
    "        print(key,'=>',value)\n",
    "data(age=12, id='mm1004',name='마징가', job='히어로', phone='01031130782',loc='대구')"
   ]
  },
  {
   "cell_type": "code",
   "execution_count": 186,
   "metadata": {},
   "outputs": [
    {
     "name": "stdout",
     "output_type": "stream",
     "text": [
      "------------------------------\n",
      "        <나의 계산기>        \n",
      "------------------------------\n",
      "1.입  력   2.덧  셈   3.뺄  셈\n",
      "4.곱  셈   2.나눗셈   3.종  료\n",
      "------------------------------\n",
      "메뉴 선택(1~6): 1\n",
      "숫자 2개 입력 :(예: 1, 7) 6\n",
      "------------------------------\n",
      "        <나의 계산기>        \n",
      "------------------------------\n",
      "1.입  력   2.덧  셈   3.뺄  셈\n",
      "4.곱  셈   2.나눗셈   3.종  료\n",
      "------------------------------\n",
      "메뉴 선택(1~6): 6\n",
      "나의 계산기 프로그램 종료\n"
     ]
    }
   ],
   "source": [
    "#20. [나의 계산기] 프로그램을 구현하세요.\n",
    "while True:\n",
    "    print('-'*30,('<나의 계산기>').center(24),'-'*30,sep='\\n')\n",
    "    print('1.입  력   2.덧  셈   3.뺄  셈')\n",
    "    print('4.곱  셈   2.나눗셈   3.종  료')\n",
    "    print('-'*30)\n",
    "    입력=int(input('메뉴 선택(1~6): '))\n",
    "    print('메뉴 선택(1~6):',입력)\n",
    "    if 입력==1:\n",
    "        a=input('숫자 2개 입력 :(예: 1, 7) ')\n",
    "        print(f'숫자 2개 입력 :(예: 1, 7) {a}')\n",
    "        A=[]\n",
    "        for i in a:\n",
    "            if i.isdigit():\n",
    "                A.append(int(i))\n",
    "    elif 입력==2:\n",
    "        print(f'{A[0]}+{A[1]}={A[0]+A[1]}')    \n",
    "    elif 입력==3:\n",
    "        print(A[0]-A[1])\n",
    "    elif 입력==4:\n",
    "        print(A[0]*A[1])\n",
    "    elif 입력==5:\n",
    "        print(A[0]/A[1])\n",
    "    elif 입력==6:\n",
    "        print('나의 계산기 프로그램 종료')\n",
    "        break"
   ]
  },
  {
   "cell_type": "code",
   "execution_count": null,
   "metadata": {},
   "outputs": [],
   "source": [
    "#코딩테스트문제1\n",
    "i=int(input('출력 원하는 단 입력: '))\n",
    "A=[f'{i}*{j}={i*j}'for j in range(1,10) ]\n",
    "print(*A,sep='\\t')"
   ]
  },
  {
   "cell_type": "code",
   "execution_count": null,
   "metadata": {},
   "outputs": [],
   "source": [
    "#코딩테스트3\n",
    "배트맨={90:'국어',89:'수학',98:'윤리',99:'국사'}\n",
    "마징가={82:'국어',73:'수학',71:'윤리',91:'국사'}\n",
    "피오나={78:'국어',99:'수학',91:'윤리',83:'국사'}\n",
    "이름=[배트맨,마징가,피오나]\n",
    "이름2=['배트맨','마징가','피오나']\n",
    "for i in range(0,len(이름)):\n",
    "    print('[',이름2[i],'] ',end='')\n",
    "    print('최고 점수:',max(이름[i].keys()),이름[i].get(max(이름[i].keys())), '  최저 점수:',min(이름[i].keys()),이름[i].get(min(이름[i].keys())))"
   ]
  },
  {
   "cell_type": "code",
   "execution_count": null,
   "metadata": {},
   "outputs": [],
   "source": [
    "#코딩테스트4\n",
    "id='000101-4234567' #input('주민번호 입력(000000-0000000): ')\n",
    "A=[]\n",
    "if int(id[7])==1 or int(id[7])==2:\n",
    "    A.append(19)\n",
    "else:\n",
    "    A.append(20)\n",
    "for i in id:\n",
    "    if i.isdigit():\n",
    "        A.append(int(i))\n",
    "#나이\n",
    "B=A[0]*100+A[1]*10+A[2]\n",
    "print(f'{2022-B+1}세',end=', ')\n",
    "#성별\n",
    "if A[7]==1 or A[7]==3:print('남자',end=', ')\n",
    "else: print('여자',end=', ')\n",
    "#생년월일\n",
    "print(f'{B}년{A[3]*10+A[4]}월{A[5]*10+A[6]}일',end=' ')\n",
    "#띠\n",
    "띠=['원숭이띠','닭띠','개띠','돼지띠','쥐띠','소띠','호랑이띠','토끼띠','용띠','뱀띠','말띠','양띠']\n",
    "if B%12 ==0: print(띠[0],end=' ')\n",
    "if B%12 ==1: print(띠[1],end=' ')\n",
    "if B%12 ==2: print(띠[2],end=' ')\n",
    "if B%12 ==3: print(띠[3],end=' ')\n",
    "if B%12 ==4: print(띠[4],end=' ')\n",
    "if B%12 ==5: print(띠[5],end=' ')\n",
    "if B%12 ==6: print(띠[6],end=' ')\n",
    "if B%12 ==7: print(띠[7],end=' ')\n",
    "if B%12 ==8: print(띠[8],end=' ')\n",
    "if B%12 ==9: print(띠[9],end=' ')\n",
    "if B%12 ==10: print(띠[10],end=' ')\n",
    "if B%12 ==11: print(띠[11],end=' ')\n",
    "#별자리\n",
    "C=A[3]*1000+A[4]*100+A[5]*10+A[6]\n",
    "별자리=['물병자리','물고기자리','양자리','황소자리','쌍둥이자리','게자리','사자자리','처녀자리','천칭자리','전갈자리','궁수자리','염소자리']\n",
    "if 120 <= C <=218: print(별자리[0])\n",
    "if 219 <= C <=320: print(별자리[1])\n",
    "if 321 <= C <=419: print(별자리[2])\n",
    "if 420 <= C <=520: print(별자리[3])\n",
    "if 521 <= C <=621: print(별자리[4])\n",
    "if 622 <= C <=722: print(별자리[5])\n",
    "if 723 <= C <=822: print(별자리[6])\n",
    "if 823 <= C <=923: print(별자리[7])\n",
    "if 924 <= C <=1022: print(별자리[8])\n",
    "if 1023 <= C <=1122: print(별자리[9])\n",
    "if 1123 <= C <=1224: print(별자리[10])\n",
    "if 1225 <= C or C <=119: print(별자리[11])"
   ]
  },
  {
   "cell_type": "code",
   "execution_count": null,
   "metadata": {},
   "outputs": [],
   "source": [
    "#코딩테스트문제5\n",
    "while True:\n",
    "    print('---------------------------------------------------')\n",
    "    print('<영어변환기>')\n",
    "    print('---------------------------------------------------')\n",
    "    print('1.입  력 2.대문자 3.소문자')\n",
    "    print('4.코드화 5.종  료')\n",
    "    print('---------------------------------------------------')\n",
    "\n",
    "    a = int(input('메뉴 선택(1~6): '))\n",
    "\n",
    "    if a == 1:\n",
    "        print('메뉴선택: ',a)\n",
    "        text=input('영어입력 :')\n",
    "        print('영어 입력: ',text)\n",
    "    elif a == 2:\n",
    "        print('메뉴선택: ',a)\n",
    "        print(text.upper())\n",
    "    elif a == 3:\n",
    "        print('메뉴선택: ',a)\n",
    "        print(text.lower())\n",
    "    elif a == 4:\n",
    "        print('메뉴선택: ',a)\n",
    "        for i in text:\n",
    "            print(hex(ord(i)),end='')\n",
    "        print()\n",
    "    elif a == 5:\n",
    "        print('영어 변환기 프로그램을 종료합니다')\n",
    "        break"
   ]
  }
 ],
 "metadata": {
  "kernelspec": {
   "display_name": "Python 3.11.0 64-bit",
   "language": "python",
   "name": "python3"
  },
  "language_info": {
   "codemirror_mode": {
    "name": "ipython",
    "version": 3
   },
   "file_extension": ".py",
   "mimetype": "text/x-python",
   "name": "python",
   "nbconvert_exporter": "python",
   "pygments_lexer": "ipython3",
   "version": "3.11.0"
  },
  "orig_nbformat": 4,
  "vscode": {
   "interpreter": {
    "hash": "5238573367df39f7286bb46f9ff5f08f63a01a80960060ce41e3c79b190280fa"
   }
  }
 },
 "nbformat": 4,
 "nbformat_minor": 2
}
