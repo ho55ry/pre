{
 "cells": [
  {
   "cell_type": "code",
   "execution_count": 1,
   "metadata": {},
   "outputs": [
    {
     "name": "stdout",
     "output_type": "stream",
     "text": [
      "<class '__main__.클래스'> <__main__.클래스 object at 0x000002CF9AE6EE30>\n"
     ]
    }
   ],
   "source": [
    "# -----------------------------------------------------------------------------\n",
    "# 클래스가 메모리에 들어가야지 사용가능.\n",
    "# 클래스가 메모리에 들어가면 = 객체\n",
    "# 객체 중에 하나하나가 인스턴스 ex) int instance, str ins, dict ins ...  // 객체가 더 큰 개념\n",
    "# 문법 : class 클래스명:\n",
    "# -----------------------------------------------------------------------------\n",
    "\n",
    "class 클래스:\n",
    "    pass\n",
    "\n",
    "A=클래스()\n",
    "print(type(A),A)\n"
   ]
  }
 ],
 "metadata": {
  "kernelspec": {
   "display_name": "Python 3",
   "language": "python",
   "name": "python3"
  },
  "language_info": {
   "codemirror_mode": {
    "name": "ipython",
    "version": 3
   },
   "file_extension": ".py",
   "mimetype": "text/x-python",
   "name": "python",
   "nbconvert_exporter": "python",
   "pygments_lexer": "ipython3",
   "version": "3.10.9"
  },
  "orig_nbformat": 4,
  "vscode": {
   "interpreter": {
    "hash": "23e7cd0fac68f14e6f831e1325482e22752427aa2c3bc43fde0e47b392ec96a8"
   }
  }
 },
 "nbformat": 4,
 "nbformat_minor": 2
}
