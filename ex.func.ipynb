{
 "cells": [
  {
   "cell_type": "code",
   "execution_count": 7,
   "metadata": {},
   "outputs": [
    {
     "name": "stdout",
     "output_type": "stream",
     "text": [
      "<class 'tuple'>\n",
      "<class 'tuple'>\n"
     ]
    }
   ],
   "source": [
    "#----------------------------------------\n",
    "# 기능 : 숫자 덧셈 후 결과 반환\n",
    "# 함수명 : getTotal\n",
    "# 매개변수 : 미정 *nums => 0개 ~ N개\n",
    "# 반환값 : 덧셈 결과 \n",
    "#----------------------------------------\n",
    "def getTotal(*nums):\n",
    "    return nums\n",
    "\n",
    "getTotal()\n",
    "getTotal(5,4,6,2,1,4,6)"
   ]
  },
  {
   "cell_type": "code",
   "execution_count": 37,
   "metadata": {},
   "outputs": [
    {
     "name": "stdout",
     "output_type": "stream",
     "text": [
      "14\n",
      "5\n"
     ]
    }
   ],
   "source": [
    "#----------------------------------------\n",
    "# 기능 : 숫자 2개 덧셈 후 결과 반환\n",
    "# 함수명 : add\n",
    "# 매개변수 : num1,num2\n",
    "# 반환값 : 덧셈 결과 \n",
    "#----------------------------------------\n",
    "def add(num1,num2=0): #함수 호출 시 인자를 넣지 않으면 사용되는 디폴트 값\n",
    "    \"\"\"숫자 2개 덧셈\"\"\"\n",
    "    return num1+num2\n",
    "\n",
    "print(add(10,4))\n",
    "print(add(5))"
   ]
  },
  {
   "cell_type": "code",
   "execution_count": 20,
   "metadata": {},
   "outputs": [
    {
     "name": "stdout",
     "output_type": "stream",
     "text": [
      "8\n",
      "13\n",
      "11\n"
     ]
    }
   ],
   "source": [
    "#----------------------------------------\n",
    "# 기능 : 숫자 3개 덧셈 후 결과 반환\n",
    "# 함수명 : addThree\n",
    "# 매개변수 : num1,num2=5, num3=3\n",
    "# 반환값 : 덧셈 결과 \n",
    "#----------------------------------------\n",
    "def addThree(num1,num2=5,num3=3):\n",
    "    return num1+num2+num3\n",
    "\n",
    "print(addThree(5,0))\n",
    "print(addThree(5))\n",
    "print(addThree(5,num3=1)) #디폴트 값 여러개인 경우에 값지정 시 매개변수명=값"
   ]
  },
  {
   "cell_type": "code",
   "execution_count": 21,
   "metadata": {},
   "outputs": [
    {
     "name": "stdout",
     "output_type": "stream",
     "text": [
      "21\n",
      "3\n",
      "36\n"
     ]
    }
   ],
   "source": [
    "#----------------------------------------\n",
    "# 기능 : 2개 이상 데이터 덧셈 후 결과 반환\n",
    "# 함수명 : addMore\n",
    "# 매개변수 : num1,num2,*nums\n",
    "# 반환값 : 덧셈 결과 \n",
    "#----------------------------------------\n",
    "def addMore(num1,num2,*nums):\n",
    "    result=num1+num2\n",
    "    for i in nums:\n",
    "        result=result+i\n",
    "    return result\n",
    "\n",
    "print(addMore(1,2,3,4,5,6))\n",
    "print(addMore(1,2))\n",
    "print(addMore(1,2,3,4,5,6,7,8))"
   ]
  },
  {
   "cell_type": "code",
   "execution_count": 28,
   "metadata": {},
   "outputs": [
    {
     "name": "stdout",
     "output_type": "stream",
     "text": [
      "<class 'dict'>\n",
      "member=> {'id': 'a123', 'pw': 'password', 'email': 'a123@knu.ac.kr', 'phone': '010-3113-0782', 'job': 'hero', 'loc': 'Daegu'}\n"
     ]
    }
   ],
   "source": [
    "#----------------------------------------\n",
    "# 기능 : 회원가입 함수 => id, pw, e-mail, phone [, adress, loc, age, job, ...]\n",
    "# 함수명 : join\n",
    "# 매개변수 : id, pw, email, phone, *data\n",
    "# 반환값 : 가입 완료 메시지\n",
    "#----------------------------------------\n",
    "def join(id,pw,email,phone,**data): # **하면 dict\n",
    "    print(type(data))\n",
    "    info={}\n",
    "    info['id']=id\n",
    "    info['pw']=pw\n",
    "    info['email']=email\n",
    "    info['phone']=phone\n",
    "    for k, v in data.items(): info[k]=v    # = for k in data.keys(): info[k]=data[k]\n",
    "    return info\n",
    "\n",
    "# 함수 호출=> (매개변수=값)\n",
    "# 키워드 파라미터가 있는 함수 호출 시 키=값 /// 키는 str타입만\n",
    "member=join('a123','password','a123@knu.ac.kr','010-3113-0782',job='hero',loc='Daegu')\n",
    "print(f'member=> {member}')"
   ]
  },
  {
   "cell_type": "code",
   "execution_count": 35,
   "metadata": {},
   "outputs": [
    {
     "name": "stdout",
     "output_type": "stream",
     "text": [
      "<class 'function'> <class 'builtin_function_or_method'>\n",
      "<class 'dict'>\n",
      "{'id': '1', 'pw': '2', 'email': '3', 'phone': '4'} 6 10\n"
     ]
    }
   ],
   "source": [
    "#--------------------------------------------------\n",
    "# 함수 타입 => function 클래스\n",
    "#--------------------------------------------------\n",
    "# type(함수명)\n",
    "print(type(join),type(sum))\n",
    "\n",
    "#함수명을 변수에 저장\n",
    "myFunc=join\n",
    "funs=[sum,max,min,join]\n",
    "print(myFunc('1','2','3','4'),funs[0]([1,2,3]),funs[1](10,-1))"
   ]
  },
  {
   "cell_type": "code",
   "execution_count": 38,
   "metadata": {},
   "outputs": [
    {
     "name": "stdout",
     "output_type": "stream",
     "text": [
      "10\n"
     ]
    }
   ],
   "source": [
    "#합계 계산하는 함수\n",
    "print(sum([1,2,3,4]))\n",
    "sum='Good'\n",
    "print(sum([1,2,3,4]))\n",
    "\n",
    "# 질문) 변수 지우는 방법"
   ]
  }
 ],
 "metadata": {
  "kernelspec": {
   "display_name": "Python 3",
   "language": "python",
   "name": "python3"
  },
  "language_info": {
   "codemirror_mode": {
    "name": "ipython",
    "version": 3
   },
   "file_extension": ".py",
   "mimetype": "text/x-python",
   "name": "python",
   "nbconvert_exporter": "python",
   "pygments_lexer": "ipython3",
   "version": "3.10.9"
  },
  "orig_nbformat": 4,
  "vscode": {
   "interpreter": {
    "hash": "23e7cd0fac68f14e6f831e1325482e22752427aa2c3bc43fde0e47b392ec96a8"
   }
  }
 },
 "nbformat": 4,
 "nbformat_minor": 2
}
