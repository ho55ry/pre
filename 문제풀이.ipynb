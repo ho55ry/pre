{
 "cells": [
  {
   "cell_type": "code",
   "execution_count": 211,
   "metadata": {},
   "outputs": [
    {
     "name": "stdout",
     "output_type": "stream",
     "text": [
      "정렬결과 :  ['f', 'd', 'e', 'c', 'b', 'a']\n",
      "가장 높은 문자열: f, 가장 낮은 문자열: a\n"
     ]
    }
   ],
   "source": [
    "#1\n",
    "N=6\n",
    "msg = []\n",
    "for i in range(N):\n",
    "   msg.append(input('입력하세요: '))\n",
    "msg.reverse()\n",
    "print('정렬결과 : ', msg)\n",
    "print('가장 높은 문자열:', msg[0],end=', ') #max(msg)\n",
    "print('가장 낮은 문자열:', min(msg)) #msg[-1]"
   ]
  },
  {
   "cell_type": "code",
   "execution_count": 131,
   "metadata": {},
   "outputs": [
    {
     "name": "stdout",
     "output_type": "stream",
     "text": [
      "\"가나다\"의 인코딩: 0xac000xb0980xb2e4\n",
      "\"가나다\"의 인코딩: 0b10101100000000000b10110000100110000b1011001011100100"
     ]
    }
   ],
   "source": [
    "#2\n",
    "#16진수(x들어감), 2진수 표현(b들어감) //8진수는o\n",
    "#hex.()하면 되는데 10진수만 됨 \n",
    "#가나다를 10진수로 바꿔주기\n",
    "#print(hex(ord('가'))+hex(ord('나'))+hex(ord('다')))\n",
    "#print(bin(ord('가'))+bin(ord('나'))+bin(ord('다')))\n",
    "#가나다 입력하면 가,나,다로 인식시켜서 10진수로 변환해서 16진수,2진수로 변환\n",
    "data=input('입력하세요: ')\n",
    "print(f'''\"{data}\"의 인코딩: ''',end='')\n",
    "for i in data:\n",
    "   print(hex(ord(i)),end='')\n",
    "\n",
    "print()\n",
    "\n",
    "print(f'''\"{data}\"의 인코딩: ''',end='')\n",
    "for i in data:\n",
    "   print(bin(ord(i)),end='')"
   ]
  },
  {
   "cell_type": "code",
   "execution_count": 367,
   "metadata": {},
   "outputs": [
    {
     "name": "stdout",
     "output_type": "stream",
     "text": [
      "\"123.125.15.15\"의 합: 26, 가장 큰 수: 5, 가장 작은 수: 1\n"
     ]
    }
   ],
   "source": [
    "#3\n",
    "data=input('입력: ')#'123,42,98,18'\n",
    "A=[]\n",
    "for i in data:\n",
    "    if i.isdigit():  #10진수냐 물어보는거 or isnumeric 숫자냐\n",
    "#A.append(i) 숫자만 담아주기\n",
    "#담아놓고 보면 문자로 담김\n",
    "        A.append(int(i)) #숫자로 담김\n",
    "print(f'''\"{data}\"의 합: {sum(A)}, 가장 큰 수: {max(A)}, 가장 작은 수: {min(A)}''')"
   ]
  },
  {
   "cell_type": "code",
   "execution_count": 213,
   "metadata": {},
   "outputs": [
    {
     "name": "stdout",
     "output_type": "stream",
     "text": [
      "1#3#567#91011#13#151617#1920\n",
      "21#23#252627#293031#33#353637#3940\n"
     ]
    }
   ],
   "source": [
    "#4\n",
    "num=int(input('게임 정수 입력: '))\n",
    "for i in range(1,num+1):\n",
    "    if i%10 in [2,4,8]:\n",
    "        print('#',end='') #출력후에 단바꾸기 없음\n",
    "    elif i%20 ==0:\n",
    "        print(i)\n",
    "    else: print(i,end='')\n"
   ]
  },
  {
   "cell_type": "code",
   "execution_count": 218,
   "metadata": {},
   "outputs": [
    {
     "name": "stdout",
     "output_type": "stream",
     "text": [
      "Jur Summer\n"
     ]
    }
   ],
   "source": [
    "#5\n",
    "month=int(input('좋아하는 월 입력: '))\n",
    "data=['','Jan','Feb','Mar','Apr','May','Jun','Jur','Aug','Sep','Oct','Nov','Dec'] #1~12 매칭하기 좋게\n",
    "if month in [3,4,5]:\n",
    "    print(data[month],'Spring')\n",
    "elif month in [6,7,8]:\n",
    "    print(data[month],'Summer')\n",
    "elif month in [9,10,11]:\n",
    "    print(data[month],'Fall')\n",
    "elif month in [12,1,2]:\n",
    "    print(data[month], ', Winter')\n",
    "else: print(\"잘못된 데이터입니다\")"
   ]
  },
  {
   "cell_type": "code",
   "execution_count": 221,
   "metadata": {},
   "outputs": [
    {
     "name": "stdout",
     "output_type": "stream",
     "text": [
      "938$\n"
     ]
    }
   ],
   "source": [
    "#6\n",
    "def data(num,dan):\n",
    "    print(format(num, ','),end='')\n",
    "    print(dan)\n",
    "num=int(input('숫자 입력: '))\n",
    "dan=input('화폐 단위 입력(예시:$,₩): ')\n",
    "data(num,dan)"
   ]
  },
  {
   "cell_type": "code",
   "execution_count": 244,
   "metadata": {},
   "outputs": [
    {
     "name": "stdout",
     "output_type": "stream",
     "text": [
      "14의 약수: 1, 2, 7, 14\n"
     ]
    }
   ],
   "source": [
    "#7\n",
    "num=int(input('약수 구하고 싶은 수 : '))\n",
    "A=[]\n",
    "for i in range(1,num+1):\n",
    "    if num%i==0:\n",
    "        A.append(i)\n",
    "    else: pass\n",
    "print(f'{num}의 약수: ',end='')\n",
    "print(*A,sep=', ')"
   ]
  },
  {
   "cell_type": "code",
   "execution_count": 241,
   "metadata": {},
   "outputs": [
    {
     "name": "stdout",
     "output_type": "stream",
     "text": [
      "2, 0, 3\n"
     ]
    }
   ],
   "source": [
    "#8\n",
    "string = input('메시지 입력: ')\n",
    "dd= ['0','1','2','3','4','5','6','7','8','9']\n",
    "A=[]\n",
    "for i in range(0,len(string)):\n",
    "    if string[i] in dd :\n",
    "        if int(string[i]) not in A:\n",
    "            A.append(int(string[i]))\n",
    "print(*A,sep=', ')"
   ]
  },
  {
   "cell_type": "code",
   "execution_count": 226,
   "metadata": {},
   "outputs": [
    {
     "name": "stdout",
     "output_type": "stream",
     "text": [
      "당신의 한국 나이는 23살입니다.\n",
      "당신의 외국 나이는 22살입니다.\n"
     ]
    }
   ],
   "source": [
    "#9-1\n",
    "from datetime import datetime\n",
    "\n",
    "birth = input('생년월일 입력 (YYYY.MM.DD): ')\n",
    "birth = datetime.strptime(birth, '%Y.%m.%d').date()\n",
    "today = datetime.now().date()\n",
    "year = today.year - birth.year\n",
    "if today.month < birth.month:\n",
    "    year -= 1\n",
    "elif today.month == birth.month and today.day < birth.day:\n",
    "    year -= 1\n",
    "\n",
    "print(f'당신의 한국 나이는 {year+1}살입니다.')\n",
    "print(f'당신의 외국 나이는 {year}살입니다.')"
   ]
  },
  {
   "cell_type": "code",
   "execution_count": 227,
   "metadata": {},
   "outputs": [
    {
     "name": "stdout",
     "output_type": "stream",
     "text": [
      "당신의 한국 나이는 23\n",
      "당신의 외국 나이는 22\n"
     ]
    }
   ],
   "source": [
    "#9-2\n",
    "birth=input('(YYYY.MM.DD)생년월일 입력: ')\n",
    "A=[]\n",
    "for i in birth:\n",
    "    if i.isdigit():\n",
    "        A.append(int(i))\n",
    "print('당신의 한국 나이는',end='')\n",
    "print('',2022-(A[0]*1000+A[1]*100+A[2]*10+A[3])+1)\n",
    "print('당신의 외국 나이는',end='')\n",
    "print('',2022-(A[0]*1000+A[1]*100+A[2]*10+A[3]))"
   ]
  },
  {
   "cell_type": "code",
   "execution_count": 232,
   "metadata": {},
   "outputs": [
    {
     "name": "stdout",
     "output_type": "stream",
     "text": [
      "4! => 24\n"
     ]
    }
   ],
   "source": [
    "#10\n",
    "num=int(input('팩토리얼 수 입력: '))\n",
    "pre=num\n",
    "ans=1\n",
    "if num>0:\n",
    "    while num:\n",
    "        ans= ans*num\n",
    "        num=num-1\n",
    "    print(f'{pre}! => {ans}')\n",
    "else:\n",
    "    print('0! => 0')"
   ]
  },
  {
   "cell_type": "code",
   "execution_count": 240,
   "metadata": {},
   "outputs": [
    {
     "name": "stdout",
     "output_type": "stream",
     "text": [
      "1 ~ 13에서 소수 : 2, 3, 5, 7, 11, 13\n"
     ]
    }
   ],
   "source": [
    "#11\n",
    "범위=int(input('범위 숫자 입력 : '))\n",
    "B=[]\n",
    "for num in range(1,범위+1):\n",
    "    A=[]\n",
    "    for i in range(1,num+1):\n",
    "        if num%i==0:\n",
    "            A.append(i)\n",
    "        else: pass\n",
    "    if len(A)==2:\n",
    "        B.append(A[-1])\n",
    "        #print(A[-1],end=', ')\n",
    "        #print(A.pop(),end=', ')\n",
    "print(f'1 ~ {범위}에서 소수 : ',end='')\n",
    "print(*B,sep=', ')"
   ]
  },
  {
   "cell_type": "code",
   "execution_count": 43,
   "metadata": {},
   "outputs": [
    {
     "name": "stdout",
     "output_type": "stream",
     "text": [
      "[ [90, 82, 77, 94, 78] ] 최고점수: 94 최저점수: 77\n",
      "[ [89, 71, 100, 82, 99] ] 최고점수: 100 최저점수: 71\n",
      "[ [98, 80, 92, 93, 91] ] 최고점수: 98 최저점수: 80\n",
      "[ [99, 91, 90, 71, 83] ] 최고점수: 99 최저점수: 71\n"
     ]
    }
   ],
   "source": [
    "#12\n",
    "국어=[90,82,77,94,78]\n",
    "수학=[89,71,100,82,99]\n",
    "윤리=[98,80,92,93,91]\n",
    "국사=[99,91,90,71,83]\n",
    "과목=[국어,수학,윤리,국사]\n",
    "for i in range(0,len(과목)):\n",
    "    print('[',과목[i],'] ',end='')\n",
    "    print(f'최고점수: {max(과목[i])} 최저점수: {min(과목[i])}')\n",
    "\n",
    "#리스트 이름 출력하는 방법 따로 못찾음 -1 방법 사용"
   ]
  },
  {
   "cell_type": "code",
   "execution_count": 249,
   "metadata": {},
   "outputs": [
    {
     "name": "stdout",
     "output_type": "stream",
     "text": [
      "[국어] 최고 점수: 94 , 최저 점수: 77\n",
      "[수학] 최고 점수: 100 , 최저 점수: 71\n",
      "[윤리] 최고 점수: 98 , 최저 점수: 80\n",
      "[국사] 최고 점수: 99 , 최저 점수: 71\n"
     ]
    }
   ],
   "source": [
    "#12-1\n",
    "국어=[90,82,77,94,78]\n",
    "수학=[89,71,100,82,99]\n",
    "윤리=[98,80,92,93,91]\n",
    "국사=[99,91,90,71,83]\n",
    "과목=[국어,수학,윤리,국사]\n",
    "과목2=['국어','수학','윤리','국사']\n",
    "for i in range(0,len(과목)):\n",
    "    print(f'[{과목2[i]}]',end=' ')\n",
    "    print(f'최고 점수: {max(과목[i])} , 최저 점수: {min(과목[i])}')"
   ]
  },
  {
   "cell_type": "code",
   "execution_count": 163,
   "metadata": {},
   "outputs": [
    {
     "name": "stdout",
     "output_type": "stream",
     "text": [
      "--[2단]-- 2*1=2 2*2=4 2*3=6 2*4=8 2*5=10 2*6=12 2*7=14 2*8=16 2*9=18 \n",
      "--[3단]-- 3*1=3 3*2=6 3*3=9 3*4=12 3*5=15 3*6=18 3*7=21 3*8=24 3*9=27 \n",
      "--[4단]-- 4*1=4 4*2=8 4*3=12 4*4=16 4*5=20 4*6=24 4*7=28 4*8=32 4*9=36 \n",
      "--[5단]-- 5*1=5 5*2=10 5*3=15 5*4=20 5*5=25 5*6=30 5*7=35 5*8=40 5*9=45 \n"
     ]
    }
   ],
   "source": [
    "#13\n",
    "시작=int(input('구구단 시작 숫자: '))\n",
    "종료=int(input('구구단 종료 숫자: '))\n",
    "for i in range (시작,종료+1):\n",
    "    print(f'--[{i}단]--',end=' ')\n",
    "    for j in range (1,10):\n",
    "        print(f'{i}*{j}={i*j}',end=' ')\n",
    "    print()"
   ]
  },
  {
   "cell_type": "code",
   "execution_count": 250,
   "metadata": {},
   "outputs": [
    {
     "name": "stdout",
     "output_type": "stream",
     "text": [
      "--[7단]--\t--[8단]--\t--[9단]--\t\n",
      "7*1= 7\t\t8*1= 8\t\t9*1= 9\t\t\n",
      "7*2= 14\t\t8*2= 16\t\t9*2= 18\t\t\n",
      "7*3= 21\t\t8*3= 24\t\t9*3= 27\t\t\n",
      "7*4= 28\t\t8*4= 32\t\t9*4= 36\t\t\n",
      "7*5= 35\t\t8*5= 40\t\t9*5= 45\t\t\n",
      "7*6= 42\t\t8*6= 48\t\t9*6= 54\t\t\n",
      "7*7= 49\t\t8*7= 56\t\t9*7= 63\t\t\n",
      "7*8= 56\t\t8*8= 64\t\t9*8= 72\t\t\n",
      "7*9= 63\t\t8*9= 72\t\t9*9= 81\t\t\n",
      "\n"
     ]
    }
   ],
   "source": [
    "#13-1 세로 출력\n",
    "def gugudan(시작,종료): \n",
    "    for a in range(시작, 종료+1):\n",
    "        print(f'--[{a}단]--', end  ='\\t')\n",
    "    print()\n",
    "    for b in range(1,10):\n",
    "        for a in range(시작, 종료+1): \n",
    "            print(f'{a}*{b}= {a*b}', end  ='\\t\\t')\n",
    "        print()\n",
    "    print()\n",
    "시작=int(input('구구단 시작 숫자: '))\n",
    "종료=int(input('구구단 종료 숫자: '))\n",
    "gugudan(시작,종료)"
   ]
  },
  {
   "cell_type": "code",
   "execution_count": 371,
   "metadata": {},
   "outputs": [
    {
     "name": "stdout",
     "output_type": "stream",
     "text": [
      "숫자:  12345\n",
      "만의 자리 :  1\n",
      "천의 자리 :  2\n",
      "백의 자리 :  3\n",
      "십의 자리 :  4\n",
      "일의 자리 :  5\n"
     ]
    }
   ],
   "source": [
    "#14\n",
    "숫자='12345' #input('숫자 입력: (예: 12345)')\n",
    "print('숫자: ',숫자)\n",
    "A=list(숫자)\n",
    "자리수=['','일','십','백','천','만']\n",
    "for i in range(1,len(A)+1):\n",
    "    print(f'{자리수[-i]}의 자리 : ',A[i-1])"
   ]
  },
  {
   "cell_type": "code",
   "execution_count": 379,
   "metadata": {},
   "outputs": [
    {
     "name": "stdout",
     "output_type": "stream",
     "text": [
      "adaff\n",
      "None\n"
     ]
    }
   ],
   "source": [
    "#15\n",
    "def add(*data):\n",
    "    if type(data[0])==str:\n",
    "        for i in range(0,len(data)):\n",
    "            print(data[i])\n",
    "print(add('adaff'))"
   ]
  },
  {
   "cell_type": "code",
   "execution_count": 376,
   "metadata": {},
   "outputs": [
    {
     "name": "stdout",
     "output_type": "stream",
     "text": [
      "a\n",
      "ab\n",
      "dd\n",
      "None\n"
     ]
    }
   ],
   "source": [
    "def add(*data):\n",
    "    if type(data[0])==str:\n",
    "        for i in range(0,len(data)):\n",
    "            print(data[i])\n",
    "    else:\n",
    "        result=0\n",
    "        for i in data:\n",
    "            result+=i\n",
    "        return result\n",
    "print(add('a','ab','dd'))"
   ]
  },
  {
   "cell_type": "code",
   "execution_count": 210,
   "metadata": {},
   "outputs": [
    {
     "name": "stdout",
     "output_type": "stream",
     "text": [
      "       *       \n",
      "      ***      \n",
      "     *****     \n",
      "    *******    \n",
      "   *********   \n",
      "  ***********  \n",
      " ************* \n",
      "***************\n",
      "      ****     \n",
      "      ****     \n",
      "Merry Christmas\n",
      "      2023     \n"
     ]
    }
   ],
   "source": [
    "#16\n",
    "n=-1\n",
    "while n<15:\n",
    "    n=n+2\n",
    "    print(('*'*n).center(15))\n",
    "print(('****').center(15))\n",
    "print(('****').center(15))\n",
    "print(('Merry Christmas').center(15))\n",
    "print(('2023').center(15))"
   ]
  },
  {
   "cell_type": "code",
   "execution_count": 267,
   "metadata": {},
   "outputs": [
    {
     "name": "stdout",
     "output_type": "stream",
     "text": [
      "Merry Christmas HaPPy New YEaR\n",
      "=> m E R R Y   c H R I S T M A S   h A p p Y   n E W   y e A r\n"
     ]
    }
   ],
   "source": [
    "#17\n",
    "text='Merry Christmas HaPPy New YEaR'\n",
    "A=[]\n",
    "for i in text:\n",
    "    if i.isupper():\n",
    "        A.append(i.lower())\n",
    "    else: A.append(i.upper())\n",
    "print(text)\n",
    "print('=>',*A)"
   ]
  },
  {
   "cell_type": "code",
   "execution_count": 275,
   "metadata": {},
   "outputs": [
    {
     "name": "stdout",
     "output_type": "stream",
     "text": [
      "Merry Christmas HaPPy New YEaR\n",
      "=> m E R R Y   c H R I S T M A S   h A p p Y   n E W   y e A r\n"
     ]
    }
   ],
   "source": [
    "#17-1\n",
    "text='Merry Christmas HaPPy New YEaR'\n",
    "A=[i.swapcase() for i in text]\n",
    "print(text)\n",
    "print('=>',*A)"
   ]
  },
  {
   "cell_type": "code",
   "execution_count": 281,
   "metadata": {},
   "outputs": [
    {
     "name": "stdout",
     "output_type": "stream",
     "text": [
      "덧셈 결과 : 6\n",
      "뺄셈 결과 : -4\n",
      "곱셈 결과 : 5\n",
      "나누기 결과 : 0.2\n",
      "몫 결과 : 0\n",
      "나머지 결과 : 1\n"
     ]
    }
   ],
   "source": [
    "#18\n",
    "def 연산(num1,num2):\n",
    "    print(f'덧셈 결과 : {num1+num2}')\n",
    "    print(f'뺄셈 결과 : {num1-num2}')\n",
    "    print(f'곱셈 결과 : {num1*num2}')\n",
    "    print(f'나누기 결과 : {num1/num2}')\n",
    "    print(f'몫 결과 : {num1//num2}')\n",
    "    print(f'나머지 결과 : {num1%num2}')\n",
    "num1=int(input('첫번째 숫자: '))\n",
    "num2=int(input('두번째 숫자: '))\n",
    "연산(num1,num2)"
   ]
  },
  {
   "cell_type": "code",
   "execution_count": null,
   "metadata": {},
   "outputs": [],
   "source": [
    "#19\n"
   ]
  },
  {
   "cell_type": "code",
   "execution_count": 518,
   "metadata": {},
   "outputs": [
    {
     "name": "stdout",
     "output_type": "stream",
     "text": [
      "------------------------------------------------------\n",
      "<나의계산기>\n",
      "------------------------------------------------------\n",
      "1.입 력 2.덧 셈 3.뺄 셈\n",
      "4.곱 셈 5.나 눗 셈 6.종 료\n",
      "------------------------------------------------------\n",
      "메뉴 선택(1~6):  1\n",
      "입력값 :  2,6\n",
      "------------------------------------------------------\n",
      "<나의계산기>\n",
      "------------------------------------------------------\n",
      "1.입 력 2.덧 셈 3.뺄 셈\n",
      "4.곱 셈 5.나 눗 셈 6.종 료\n",
      "------------------------------------------------------\n",
      "메뉴선택:  5\n",
      "2/6=0.3333333333333333\n",
      "------------------------------------------------------\n",
      "<나의계산기>\n",
      "------------------------------------------------------\n",
      "1.입 력 2.덧 셈 3.뺄 셈\n",
      "4.곱 셈 5.나 눗 셈 6.종 료\n",
      "------------------------------------------------------\n",
      "나의 계산기 프로그램을 종료합니다\n"
     ]
    }
   ],
   "source": [
    "#20\n",
    "while True:\n",
    "    print('------------------------------------------------------')\n",
    "    print('<나의계산기>')\n",
    "    print('------------------------------------------------------')\n",
    "    print('1.입 력 2.덧 셈 3.뺄 셈')\n",
    "    print('4.곱 셈 5.나 눗 셈 6.종 료')\n",
    "    print('------------------------------------------------------')\n",
    "    a = int(input('메뉴 선택(1~6): '))\n",
    "\n",
    "    if a == 1:\n",
    "        print('메뉴 선택(1~6): ',a)\n",
    "        입력값=input('입력 : (예: 2,5)')\n",
    "        print('입력값 : ',입력값)\n",
    "        A=[]\n",
    "        for i in 입력값:\n",
    "            if i.isdigit():\n",
    "                A.append(int(i))\n",
    "    elif a == 2:\n",
    "        print('메뉴선택: ',a)\n",
    "        print(f'{A[0]}+{A[1]}={A[0]+A[1]}')\n",
    "    elif a == 3:\n",
    "        print('메뉴선택: ',a)\n",
    "        print(f'{A[0]}-{A[1]}={A[0]-A[1]}')\n",
    "    elif a == 4:\n",
    "        print('메뉴선택: ',a)\n",
    "        print(f'{A[0]}*{A[1]}={A[0]*A[1]}')\n",
    "    elif a == 5:\n",
    "        print('메뉴선택: ',a)\n",
    "        print(f'{A[0]}/{A[1]}={A[0]/A[1]}')\n",
    "    elif a == 6:\n",
    "        print('나의 계산기 프로그램을 종료합니다')\n",
    "        break"
   ]
  },
  {
   "cell_type": "code",
   "execution_count": 366,
   "metadata": {},
   "outputs": [
    {
     "name": "stdout",
     "output_type": "stream",
     "text": [
      "5*1=5  5*2=10  5*3=15  5*4=20  5*5=25  5*6=30  5*7=35  5*8=40  5*9=45\n"
     ]
    }
   ],
   "source": [
    "#코딩테스트문제1\n",
    "i=int(input('출력 원하는 단 입력: '))\n",
    "A=[f'{i}*{j}={i*j}'for j in range(1,10) ]\n",
    "print(*A,sep='  ')"
   ]
  },
  {
   "cell_type": "code",
   "execution_count": 46,
   "metadata": {},
   "outputs": [
    {
     "name": "stdout",
     "output_type": "stream",
     "text": [
      "[배트맨] 최고 점수: 99 국사 , 최저 점수: 89 수학\n",
      "[마징가] 최고 점수: 91 국사 , 최저 점수: 71 윤리\n",
      "[피오나] 최고 점수: 99 수학 , 최저 점수: 78 국어\n"
     ]
    }
   ],
   "source": [
    "#코딩테스트문제3\n",
    "배트맨={90:'국어',89:'수학',98:'윤리',99:'국사'}\n",
    "마징가={82:'국어',73:'수학',71:'윤리',91:'국사'}\n",
    "피오나={78:'국어',99:'수학',91:'윤리',83:'국사'}\n",
    "print('[배트맨] 최고 점수:',max(배트맨.keys()),배트맨.get(max(배트맨.keys())), ', 최저 점수:',min(배트맨.keys()),배트맨.get(min(배트맨.keys()))) \n",
    "print('[마징가] 최고 점수:',max(마징가.keys()),마징가.get(max(마징가.keys())), ', 최저 점수:',min(마징가.keys()),마징가.get(min(마징가.keys()))) \n",
    "print('[피오나] 최고 점수:',max(피오나.keys()),피오나.get(max(피오나.keys())), ', 최저 점수:',min(피오나.keys()),피오나.get(min(피오나.keys()))) \n"
   ]
  },
  {
   "cell_type": "code",
   "execution_count": 76,
   "metadata": {},
   "outputs": [
    {
     "name": "stdout",
     "output_type": "stream",
     "text": [
      "[ 배트맨 ] 최고 점수: 99 국사   최저 점수: 89 수학\n",
      "[ 마징가 ] 최고 점수: 91 국사   최저 점수: 71 윤리\n",
      "[ 피오나 ] 최고 점수: 99 수학   최저 점수: 78 국어\n"
     ]
    }
   ],
   "source": [
    "#코딩테스트3-1\n",
    "배트맨={90:'국어',89:'수학',98:'윤리',99:'국사'}\n",
    "마징가={82:'국어',73:'수학',71:'윤리',91:'국사'}\n",
    "피오나={78:'국어',99:'수학',91:'윤리',83:'국사'}\n",
    "이름=[배트맨,마징가,피오나]\n",
    "이름2=['배트맨','마징가','피오나']\n",
    "for i in range(0,len(이름)):\n",
    "    print('[',이름2[i],'] ',end='')\n",
    "    print('최고 점수:',max(이름[i].keys()),이름[i].get(max(이름[i].keys())), '  최저 점수:',min(이름[i].keys()),이름[i].get(min(이름[i].keys())))"
   ]
  },
  {
   "cell_type": "code",
   "execution_count": 488,
   "metadata": {},
   "outputs": [
    {
     "name": "stdout",
     "output_type": "stream",
     "text": [
      "23세, 여자, 2000년6월2일 용띠 쌍둥이자리\n"
     ]
    }
   ],
   "source": [
    "#코딩테스트문제4\n",
    "id='000602-4234567' #input('주민번호 입력(000000-0000000): ')\n",
    "A=[]\n",
    "if int(id[7])==1 or int(id[7])==2:\n",
    "    A.append(1)\n",
    "    A.append(9)\n",
    "else:\n",
    "    A.append(2)\n",
    "    A.append(0)\n",
    "for i in id:\n",
    "    if i.isdigit():\n",
    "        A.append(int(i))\n",
    "#나이\n",
    "print(f'{2022-(A[0]*1000+A[1]*100+A[2]*10+A[3])+1}세',end=', ')\n",
    "#성별\n",
    "if A[8]==1 or A[8]==1:\n",
    "    print('남자',end=', ')\n",
    "else: print('여자',end=', ')\n",
    "print(f'{A[0]*1000+A[1]*100+A[2]*10+A[3]}년{A[4]*10+A[5]}월{A[6]*10+A[7]}일',end=' ')\n",
    "#띠\n",
    "if (A[0]*1000+A[1]*100+A[2]*10+A[3])%12 ==0:\n",
    "    print('원숭이띠',end=' ')\n",
    "if (A[0]*1000+A[1]*100+A[2]*10+A[3])%12 ==1:\n",
    "    print('닭띠',end=' ')\n",
    "if (A[0]*1000+A[1]*100+A[2]*10+A[3])%12 ==2:\n",
    "    print('개띠',end=' ')\n",
    "if (A[0]*1000+A[1]*100+A[2]*10+A[3])%12 ==3:\n",
    "    print('돼지띠',end=' ')\n",
    "if (A[0]*1000+A[1]*100+A[2]*10+A[3])%12 ==4:\n",
    "    print('쥐띠',end=' ')\n",
    "if (A[0]*1000+A[1]*100+A[2]*10+A[3])%12 ==5:\n",
    "    print('소띠',end=' ')\n",
    "if (A[0]*1000+A[1]*100+A[2]*10+A[3])%12 ==6:\n",
    "    print('호랑이띠',end=' ')\n",
    "if (A[0]*1000+A[1]*100+A[2]*10+A[3])%12 ==7:\n",
    "    print('토끼띠',end=' ')\n",
    "if (A[0]*1000+A[1]*100+A[2]*10+A[3])%12 ==8:\n",
    "    print('용띠',end=' ')\n",
    "if (A[0]*1000+A[1]*100+A[2]*10+A[3])%12 ==9:\n",
    "    print('뱀띠',end=' ')\n",
    "if (A[0]*1000+A[1]*100+A[2]*10+A[3])%12 ==10:\n",
    "    print('말띠',end=' ')\n",
    "if (A[0]*1000+A[1]*100+A[2]*10+A[3])%12 ==11:\n",
    "    print('양띠',end=' ')\n",
    "#별자리\n",
    "if 120 <= A[4]*1000+A[5]*100+A[6]*10+A[7] <=218:\n",
    "    print('물병자리')\n",
    "if 219 <= A[4]*1000+A[5]*100+A[6]*10+A[7] <=320:\n",
    "    print('물고기자리')\n",
    "if 321 <= A[4]*1000+A[5]*100+A[6]*10+A[7] <=419:\n",
    "    print('양자리')\n",
    "if 420 <= A[4]*1000+A[5]*100+A[6]*10+A[7] <=520:\n",
    "    print('황소자리')\n",
    "if 521 <= A[4]*1000+A[5]*100+A[6]*10+A[7] <=621:\n",
    "    print('쌍둥이자리')\n",
    "if 622 <= A[4]*1000+A[5]*100+A[6]*10+A[7] <=722:\n",
    "    print('게자리')\n",
    "if 723 <= A[4]*1000+A[5]*100+A[6]*10+A[7] <=822:\n",
    "    print('사자자리')\n",
    "if 823 <= A[4]*1000+A[5]*100+A[6]*10+A[7] <=923:\n",
    "    print('처녀자리')\n",
    "if 924 <= A[4]*1000+A[5]*100+A[6]*10+A[7] <=1022:\n",
    "    print('천칭자리')\n",
    "if 1023 <= A[4]*1000+A[5]*100+A[6]*10+A[7] <=1122:\n",
    "    print('전갈자리')\n",
    "if 1123 <= A[4]*1000+A[5]*100+A[6]*10+A[7] <=1224:\n",
    "    print('궁수자리')\n",
    "if 1225 <= A[4]*1000+A[5]*100+A[6]*10+A[7] or A[4]*1000+A[5]*100+A[6]*10+A[7] <=119:\n",
    "    print('염소자리')"
   ]
  },
  {
   "cell_type": "code",
   "execution_count": 515,
   "metadata": {},
   "outputs": [
    {
     "name": "stdout",
     "output_type": "stream",
     "text": [
      "---------------------------------------------------\n",
      "<영어변환기>\n",
      "---------------------------------------------------\n",
      "1.입  력 2.대문자 3.소문자\n",
      "4.코드화 5.종  료\n",
      "---------------------------------------------------\n",
      "메뉴선택:  1\n",
      "영어 입력:  hi\n",
      "---------------------------------------------------\n",
      "<영어변환기>\n",
      "---------------------------------------------------\n",
      "1.입  력 2.대문자 3.소문자\n",
      "4.코드화 5.종  료\n",
      "---------------------------------------------------\n",
      "메뉴선택:  2\n",
      "HI\n",
      "---------------------------------------------------\n",
      "<영어변환기>\n",
      "---------------------------------------------------\n",
      "1.입  력 2.대문자 3.소문자\n",
      "4.코드화 5.종  료\n",
      "---------------------------------------------------\n",
      "영어 변환기 프로그램을 종료합니다\n"
     ]
    }
   ],
   "source": [
    "#코딩테스트문제5\n",
    "while True:\n",
    "    print('---------------------------------------------------')\n",
    "    print('<영어변환기>')\n",
    "    print('---------------------------------------------------')\n",
    "    print('1.입  력 2.대문자 3.소문자')\n",
    "    print('4.코드화 5.종  료')\n",
    "    print('---------------------------------------------------')\n",
    "\n",
    "    a = int(input('메뉴 선택(1~6): '))\n",
    "\n",
    "    if a == 1:\n",
    "        print('메뉴선택: ',a)\n",
    "        text=input('영어입력 :')\n",
    "        print('영어 입력: ',text)\n",
    "    elif a == 2:\n",
    "        print('메뉴선택: ',a)\n",
    "        print(text.upper())\n",
    "    elif a == 3:\n",
    "        print('메뉴선택: ',a)\n",
    "        print(text.lower())\n",
    "    elif a == 4:\n",
    "        print('메뉴선택: ',a)\n",
    "        for i in text:\n",
    "            print(hex(ord(i)),end='')\n",
    "        print()\n",
    "    elif a == 5:\n",
    "        print('영어 변환기 프로그램을 종료합니다')\n",
    "        break"
   ]
  }
 ],
 "metadata": {
  "kernelspec": {
   "display_name": "Python 3.11.0 64-bit",
   "language": "python",
   "name": "python3"
  },
  "language_info": {
   "codemirror_mode": {
    "name": "ipython",
    "version": 3
   },
   "file_extension": ".py",
   "mimetype": "text/x-python",
   "name": "python",
   "nbconvert_exporter": "python",
   "pygments_lexer": "ipython3",
   "version": "3.11.0"
  },
  "orig_nbformat": 4,
  "vscode": {
   "interpreter": {
    "hash": "5238573367df39f7286bb46f9ff5f08f63a01a80960060ce41e3c79b190280fa"
   }
  }
 },
 "nbformat": 4,
 "nbformat_minor": 2
}
