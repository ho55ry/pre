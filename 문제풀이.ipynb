{
 "cells": [
  {
   "cell_type": "code",
   "execution_count": 193,
   "metadata": {},
   "outputs": [
    {
     "name": "stdout",
     "output_type": "stream",
     "text": [
      "정렬결과 :  ['c', 'b', 'a', 'C', 'B', 'A']\n",
      "가장 높은 문자열: c c, 가장 낮은 문자열: A A\n"
     ]
    }
   ],
   "source": [
    "#1\n",
    "N=6\n",
    "A = []\n",
    "for i in range(N):\n",
    "   A.append(input('입력하세요: '))\n",
    "A.sort(reverse=True)\n",
    "print('정렬결과 : ', A)\n",
    "print('가장 높은 문자열:', A[0],end=', ') # =max(A)\n",
    "print('가장 낮은 문자열:', A[-1]) # =min(A)"
   ]
  },
  {
   "cell_type": "code",
   "execution_count": 195,
   "metadata": {},
   "outputs": [
    {
     "name": "stdout",
     "output_type": "stream",
     "text": [
      "\"가나다\"의 인코딩: 0xac000xb0980xb2e4\n",
      "\"가나다\"의 인코딩: 0b10101100000000000b10110000100110000b1011001011100100"
     ]
    }
   ],
   "source": [
    "#2\n",
    "#16진수(x들어감), 2진수 표현(b들어감) //8진수는o\n",
    "#hex.()하면 되는데 10진수만 됨 \n",
    "#가나다를 10진수로 바꿔주기\n",
    "#print(hex(ord('가'))+hex(ord('나'))+hex(ord('다')))\n",
    "#print(bin(ord('가'))+bin(ord('나'))+bin(ord('다')))\n",
    "#가나다 입력하면 가,나,다로 인식시켜서 10진수로 변환해서 16진수,2진수로 변환\n",
    "data=input('입력하세요: ')\n",
    "print(f'\\\"{data}\"의 인코딩: ',end='')\n",
    "for i in data:\n",
    "   print(hex(ord(i)),end='')\n",
    "\n",
    "print()\n",
    "\n",
    "print(f'''\"{data}\"의 인코딩: ''',end='')\n",
    "for i in data:\n",
    "   print(bin(ord(i)),end='')"
   ]
  },
  {
   "cell_type": "code",
   "execution_count": 263,
   "metadata": {},
   "outputs": [
    {
     "name": "stdout",
     "output_type": "stream",
     "text": [
      "\"가나다\"의 인코딩: 0xac000xb0980xb2e4\n",
      "\"가나다\"의 인코딩: 0b10101100000000000b10110000100110000b1011001011100100\n"
     ]
    }
   ],
   "source": [
    "#2-1\n",
    "data=input('입력하세요: ')\n",
    "A=[hex(ord(i)) for i in data]\n",
    "print(f'\\\"{data}\"의 인코딩: ',*A,sep='')\n",
    "B=[bin(ord(i)) for i in data]\n",
    "print(f'\\\"{data}\"의 인코딩: ',*B,sep='')"
   ]
  },
  {
   "cell_type": "code",
   "execution_count": 194,
   "metadata": {},
   "outputs": [
    {
     "name": "stdout",
     "output_type": "stream",
     "text": [
      "\"123,45,54654,8\"의 합: 47, 가장 큰 수: 8, 가장 작은 수: 1\n"
     ]
    }
   ],
   "source": [
    "#3\n",
    "data=input('입력: ')#'123,42,98,18'\n",
    "A=[]\n",
    "for i in data:\n",
    "    if i.isdigit():  #10진수냐 물어보는거 or isnumeric 숫자냐\n",
    "#A.append(i) 숫자만 담아주기\n",
    "#담아놓고 보면 문자로 담김\n",
    "        A.append(int(i)) #숫자로 담김\n",
    "print(f'\\\"{data}\"의 합: {sum(A)}, 가장 큰 수: {max(A)}, 가장 작은 수: {min(A)}')"
   ]
  },
  {
   "cell_type": "code",
   "execution_count": 44,
   "metadata": {},
   "outputs": [
    {
     "name": "stdout",
     "output_type": "stream",
     "text": [
      "\"123,456\"의 합: 21, 가장 큰 수: 6, 가장 작은 수: 1\n"
     ]
    }
   ],
   "source": [
    "#3-1\n",
    "data=input('입력: ')#'123,42,98,18'\n",
    "A=[]\n",
    "B=[A.append(int(i)) for i in data if i.isdigit()]\n",
    "print(f'\\\"{data}\"의 합: {sum(A)}, 가장 큰 수: {max(A)}, 가장 작은 수: {min(A)}')"
   ]
  },
  {
   "cell_type": "code",
   "execution_count": 95,
   "metadata": {},
   "outputs": [
    {
     "name": "stdout",
     "output_type": "stream",
     "text": [
      "1#3#567#91011#13#151617#1920\n",
      "21#23#252627#2930"
     ]
    }
   ],
   "source": [
    "#4\n",
    "num=int(input('게임 정수 입력: '))\n",
    "for i in range(1,num+1):\n",
    "    if i%10 in [2,4,8]:\n",
    "        print('#',end='') #출력후에 단바꾸기 없음\n",
    "    elif i%20 ==0:\n",
    "        print(i)\n",
    "    else: print(i,end='')"
   ]
  },
  {
   "cell_type": "code",
   "execution_count": 2,
   "metadata": {},
   "outputs": [
    {
     "ename": "KeyboardInterrupt",
     "evalue": "Interrupted by user",
     "output_type": "error",
     "traceback": [
      "\u001b[1;31m---------------------------------------------------------------------------\u001b[0m",
      "\u001b[1;31mKeyboardInterrupt\u001b[0m                         Traceback (most recent call last)",
      "Cell \u001b[1;32mIn[2], line 2\u001b[0m\n\u001b[0;32m      1\u001b[0m \u001b[39m#4-1\u001b[39;00m\n\u001b[1;32m----> 2\u001b[0m num\u001b[39m=\u001b[39m\u001b[39mint\u001b[39m(\u001b[39minput\u001b[39;49m(\u001b[39m'\u001b[39;49m\u001b[39m게임 정수 입력: \u001b[39;49m\u001b[39m'\u001b[39;49m))\n\u001b[0;32m      3\u001b[0m A\u001b[39m=\u001b[39m[\u001b[39m'\u001b[39m\u001b[39m#\u001b[39m\u001b[39m'\u001b[39m \u001b[39mif\u001b[39;00m i\u001b[39m%\u001b[39m\u001b[39m10\u001b[39m \u001b[39min\u001b[39;00m [\u001b[39m2\u001b[39m,\u001b[39m4\u001b[39m,\u001b[39m8\u001b[39m] \u001b[39melse\u001b[39;00m i \u001b[39mfor\u001b[39;00m i \u001b[39min\u001b[39;00m \u001b[39mrange\u001b[39m(\u001b[39m1\u001b[39m,num\u001b[39m+\u001b[39m\u001b[39m1\u001b[39m)]\n\u001b[0;32m      4\u001b[0m \u001b[39mprint\u001b[39m(A)\n",
      "File \u001b[1;32m~\\AppData\\Roaming\\Python\\Python311\\site-packages\\ipykernel\\kernelbase.py:1175\u001b[0m, in \u001b[0;36mKernel.raw_input\u001b[1;34m(self, prompt)\u001b[0m\n\u001b[0;32m   1171\u001b[0m \u001b[39mif\u001b[39;00m \u001b[39mnot\u001b[39;00m \u001b[39mself\u001b[39m\u001b[39m.\u001b[39m_allow_stdin:\n\u001b[0;32m   1172\u001b[0m     \u001b[39mraise\u001b[39;00m StdinNotImplementedError(\n\u001b[0;32m   1173\u001b[0m         \u001b[39m\"\u001b[39m\u001b[39mraw_input was called, but this frontend does not support input requests.\u001b[39m\u001b[39m\"\u001b[39m\n\u001b[0;32m   1174\u001b[0m     )\n\u001b[1;32m-> 1175\u001b[0m \u001b[39mreturn\u001b[39;00m \u001b[39mself\u001b[39;49m\u001b[39m.\u001b[39;49m_input_request(\n\u001b[0;32m   1176\u001b[0m     \u001b[39mstr\u001b[39;49m(prompt),\n\u001b[0;32m   1177\u001b[0m     \u001b[39mself\u001b[39;49m\u001b[39m.\u001b[39;49m_parent_ident[\u001b[39m\"\u001b[39;49m\u001b[39mshell\u001b[39;49m\u001b[39m\"\u001b[39;49m],\n\u001b[0;32m   1178\u001b[0m     \u001b[39mself\u001b[39;49m\u001b[39m.\u001b[39;49mget_parent(\u001b[39m\"\u001b[39;49m\u001b[39mshell\u001b[39;49m\u001b[39m\"\u001b[39;49m),\n\u001b[0;32m   1179\u001b[0m     password\u001b[39m=\u001b[39;49m\u001b[39mFalse\u001b[39;49;00m,\n\u001b[0;32m   1180\u001b[0m )\n",
      "File \u001b[1;32m~\\AppData\\Roaming\\Python\\Python311\\site-packages\\ipykernel\\kernelbase.py:1217\u001b[0m, in \u001b[0;36mKernel._input_request\u001b[1;34m(self, prompt, ident, parent, password)\u001b[0m\n\u001b[0;32m   1214\u001b[0m             \u001b[39mbreak\u001b[39;00m\n\u001b[0;32m   1215\u001b[0m \u001b[39mexcept\u001b[39;00m \u001b[39mKeyboardInterrupt\u001b[39;00m:\n\u001b[0;32m   1216\u001b[0m     \u001b[39m# re-raise KeyboardInterrupt, to truncate traceback\u001b[39;00m\n\u001b[1;32m-> 1217\u001b[0m     \u001b[39mraise\u001b[39;00m \u001b[39mKeyboardInterrupt\u001b[39;00m(\u001b[39m\"\u001b[39m\u001b[39mInterrupted by user\u001b[39m\u001b[39m\"\u001b[39m) \u001b[39mfrom\u001b[39;00m \u001b[39mNone\u001b[39m\n\u001b[0;32m   1218\u001b[0m \u001b[39mexcept\u001b[39;00m \u001b[39mException\u001b[39;00m:\n\u001b[0;32m   1219\u001b[0m     \u001b[39mself\u001b[39m\u001b[39m.\u001b[39mlog\u001b[39m.\u001b[39mwarning(\u001b[39m\"\u001b[39m\u001b[39mInvalid Message:\u001b[39m\u001b[39m\"\u001b[39m, exc_info\u001b[39m=\u001b[39m\u001b[39mTrue\u001b[39;00m)\n",
      "\u001b[1;31mKeyboardInterrupt\u001b[0m: Interrupted by user"
     ]
    }
   ],
   "source": [
    "#4-1\n",
    "num=int(input('게임 정수 입력: '))\n",
    "A=['#' if i%10 in [2,4,8] else i for i in range(1,num+1)]\n",
    "print(A)"
   ]
  },
  {
   "cell_type": "code",
   "execution_count": 261,
   "metadata": {},
   "outputs": [
    {
     "name": "stdout",
     "output_type": "stream",
     "text": [
      "Jun Summer\n"
     ]
    }
   ],
   "source": [
    "#5\n",
    "month=int(input('좋아하는 월 입력: '))\n",
    "data=['Jan','Feb','Mar','Apr','May','Jun','Jul','Aug','Sep','Oct','Nov','Dec'] #1~12 매칭하기 좋게\n",
    "if month in [3,4,5]:\n",
    "    print(data[month-1],'Spring')\n",
    "elif month in [6,7,8]:\n",
    "    print(data[month-1],'Summer')\n",
    "elif month in [9,10,11]:\n",
    "    print(data[month-1],'Fall')\n",
    "elif month in [12,1,2]:\n",
    "    print(data[month-1], 'Winter')\n",
    "else: print(\"잘못된 데이터입니다\")"
   ]
  },
  {
   "cell_type": "code",
   "execution_count": 1,
   "metadata": {},
   "outputs": [
    {
     "name": "stdout",
     "output_type": "stream",
     "text": [
      "1,241,252,121$\n"
     ]
    }
   ],
   "source": [
    "#6\n",
    "def data(num,dan):\n",
    "    print(format(num, ','),end='')\n",
    "    print(dan)\n",
    "num=int(input('숫자 입력: '))\n",
    "dan=input('화폐 단위 입력(예시:$,₩): ')\n",
    "data(num,dan)"
   ]
  },
  {
   "cell_type": "code",
   "execution_count": 244,
   "metadata": {},
   "outputs": [
    {
     "name": "stdout",
     "output_type": "stream",
     "text": [
      "14의 약수: 1, 2, 7, 14\n"
     ]
    }
   ],
   "source": [
    "#7\n",
    "num=int(input('약수 구하고 싶은 수 : '))\n",
    "A=[]\n",
    "for i in range(1,num+1):\n",
    "    if num%i==0:\n",
    "        A.append(i)\n",
    "    else: pass\n",
    "print(f'{num}의 약수: ',end='')\n",
    "print(*A,sep=', ')"
   ]
  },
  {
   "cell_type": "code",
   "execution_count": 201,
   "metadata": {},
   "outputs": [
    {
     "name": "stdout",
     "output_type": "stream",
     "text": [
      "0, 1, 3, 7, 8, 2\n"
     ]
    }
   ],
   "source": [
    "#8\n",
    "string = input('메시지 입력: ')\n",
    "dd= ['0','1','2','3','4','5','6','7','8','9']\n",
    "A=[]\n",
    "for i in range(0,len(string)):\n",
    "    if string[i] in dd :\n",
    "        if int(string[i]) not in A:\n",
    "            A.append(int(string[i]))\n",
    "print(*A,sep=', ')"
   ]
  },
  {
   "cell_type": "code",
   "execution_count": 226,
   "metadata": {},
   "outputs": [
    {
     "name": "stdout",
     "output_type": "stream",
     "text": [
      "당신의 한국 나이는 23살입니다.\n",
      "당신의 외국 나이는 22살입니다.\n"
     ]
    }
   ],
   "source": [
    "#9-1\n",
    "from datetime import datetime\n",
    "\n",
    "birth = input('생년월일 입력 (YYYY.MM.DD): ')\n",
    "birth = datetime.strptime(birth, '%Y.%m.%d').date()\n",
    "today = datetime.now().date()\n",
    "year = today.year - birth.year\n",
    "if today.month < birth.month:\n",
    "    year -= 1\n",
    "elif today.month == birth.month and today.day < birth.day:\n",
    "    year -= 1\n",
    "\n",
    "print(f'당신의 한국 나이는 {year+1}살입니다.')\n",
    "print(f'당신의 외국 나이는 {year}살입니다.')"
   ]
  },
  {
   "cell_type": "code",
   "execution_count": 227,
   "metadata": {},
   "outputs": [
    {
     "name": "stdout",
     "output_type": "stream",
     "text": [
      "당신의 한국 나이는 23\n",
      "당신의 외국 나이는 22\n"
     ]
    }
   ],
   "source": [
    "#9-2\n",
    "birth=input('(YYYY.MM.DD)생년월일 입력: ')\n",
    "A=[]\n",
    "for i in birth:\n",
    "    if i.isdigit():\n",
    "        A.append(int(i))\n",
    "print('당신의 한국 나이는',end='')\n",
    "print('',2022-(A[0]*1000+A[1]*100+A[2]*10+A[3])+1)\n",
    "print('당신의 외국 나이는',end='')\n",
    "print('',2022-(A[0]*1000+A[1]*100+A[2]*10+A[3]))"
   ]
  },
  {
   "cell_type": "code",
   "execution_count": 220,
   "metadata": {},
   "outputs": [
    {
     "name": "stdout",
     "output_type": "stream",
     "text": [
      "1000! => 402387260077093773543702433923003985719374864210714632543799910429938512398629020592044208486969404800479988610197196058631666872994808558901323829669944590997424504087073759918823627727188732519779505950995276120874975462497043601418278094646496291056393887437886487337119181045825783647849977012476632889835955735432513185323958463075557409114262417474349347553428646576611667797396668820291207379143853719588249808126867838374559731746136085379534524221586593201928090878297308431392844403281231558611036976801357304216168747609675871348312025478589320767169132448426236131412508780208000261683151027341827977704784635868170164365024153691398281264810213092761244896359928705114964975419909342221566832572080821333186116811553615836546984046708975602900950537616475847728421889679646244945160765353408198901385442487984959953319101723355556602139450399736280750137837615307127761926849034352625200015888535147331611702103968175921510907788019393178114194545257223865541461062892187960223838971476088506276862967146674697562911234082439208160153780889893964518263243671616762179168909779911903754031274622289988005195444414282012187361745992642956581746628302955570299024324153181617210465832036786906117260158783520751516284225540265170483304226143974286933061690897968482590125458327168226458066526769958652682272807075781391858178889652208164348344825993266043367660176999612831860788386150279465955131156552036093988180612138558600301435694527224206344631797460594682573103790084024432438465657245014402821885252470935190620929023136493273497565513958720559654228749774011413346962715422845862377387538230483865688976461927383814900140767310446640259899490222221765904339901886018566526485061799702356193897017860040811889729918311021171229845901641921068884387121855646124960798722908519296819372388642614839657382291123125024186649353143970137428531926649875337218940694281434118520158014123344828015051399694290153483077644569099073152433278288269864602789864321139083506217095002597389863554277196742822248757586765752344220207573630569498825087968928162753848863396909959826280956121450994871701244516461260379029309120889086942028510640182154399457156805941872748998094254742173582401063677404595741785160829230135358081840096996372524230560855903700624271243416909004153690105933983835777939410970027753472000000000000000000000000000000000000000000000000000000000000000000000000000000000000000000000000000000000000000000000000000000000000000000000000000000000000000000000000000000000000000000000000000000000000000000000000000000000000000000000000000000000\n"
     ]
    }
   ],
   "source": [
    "#10\n",
    "num=int(input('팩토리얼 수 입력: '))\n",
    "pre=num\n",
    "ans=1\n",
    "if num>0:\n",
    "    while num:\n",
    "        ans= ans*num\n",
    "        num=num-1\n",
    "    print(f'{pre}! => {ans}')\n",
    "else:\n",
    "    print('0! => 0')"
   ]
  },
  {
   "cell_type": "code",
   "execution_count": 221,
   "metadata": {},
   "outputs": [
    {
     "name": "stdout",
     "output_type": "stream",
     "text": [
      "1000! => 402387260077093773543702433923003985719374864210714632543799910429938512398629020592044208486969404800479988610197196058631666872994808558901323829669944590997424504087073759918823627727188732519779505950995276120874975462497043601418278094646496291056393887437886487337119181045825783647849977012476632889835955735432513185323958463075557409114262417474349347553428646576611667797396668820291207379143853719588249808126867838374559731746136085379534524221586593201928090878297308431392844403281231558611036976801357304216168747609675871348312025478589320767169132448426236131412508780208000261683151027341827977704784635868170164365024153691398281264810213092761244896359928705114964975419909342221566832572080821333186116811553615836546984046708975602900950537616475847728421889679646244945160765353408198901385442487984959953319101723355556602139450399736280750137837615307127761926849034352625200015888535147331611702103968175921510907788019393178114194545257223865541461062892187960223838971476088506276862967146674697562911234082439208160153780889893964518263243671616762179168909779911903754031274622289988005195444414282012187361745992642956581746628302955570299024324153181617210465832036786906117260158783520751516284225540265170483304226143974286933061690897968482590125458327168226458066526769958652682272807075781391858178889652208164348344825993266043367660176999612831860788386150279465955131156552036093988180612138558600301435694527224206344631797460594682573103790084024432438465657245014402821885252470935190620929023136493273497565513958720559654228749774011413346962715422845862377387538230483865688976461927383814900140767310446640259899490222221765904339901886018566526485061799702356193897017860040811889729918311021171229845901641921068884387121855646124960798722908519296819372388642614839657382291123125024186649353143970137428531926649875337218940694281434118520158014123344828015051399694290153483077644569099073152433278288269864602789864321139083506217095002597389863554277196742822248757586765752344220207573630569498825087968928162753848863396909959826280956121450994871701244516461260379029309120889086942028510640182154399457156805941872748998094254742173582401063677404595741785160829230135358081840096996372524230560855903700624271243416909004153690105933983835777939410970027753472000000000000000000000000000000000000000000000000000000000000000000000000000000000000000000000000000000000000000000000000000000000000000000000000000000000000000000000000000000000000000000000000000000000000000000000000000000000000000000000000000000000\n"
     ]
    }
   ],
   "source": [
    "A=int(input('팩토리얼 수 입력: '))\n",
    "B=A\n",
    "C=1\n",
    "while A>0:\n",
    "    C=C*A\n",
    "    A=A-1\n",
    "if B==0: print(f'{B}! => 0')\n",
    "else: print(f'{B}! => {C}')"
   ]
  },
  {
   "cell_type": "code",
   "execution_count": 264,
   "metadata": {},
   "outputs": [
    {
     "name": "stdout",
     "output_type": "stream",
     "text": [
      "1 ~ 30에서 소수 : 2, 3, 5, 7, 11, 13, 17, 19, 23, 29\n"
     ]
    }
   ],
   "source": [
    "#11\n",
    "범위=int(input('범위 숫자 입력 : '))\n",
    "B=[]\n",
    "for num in range(1,범위+1):\n",
    "    A=[]\n",
    "    for i in range(1,num+1):\n",
    "        if num%i==0:A.append(i)\n",
    "    if len(A)==2:\n",
    "        B.append(A[-1])\n",
    "        #print(A[-1],end=', ')\n",
    "        #print(A.pop(),end=', ')\n",
    "print(f'1 ~ {범위}에서 소수 : ',end='')\n",
    "print(*B,sep=', ')"
   ]
  },
  {
   "cell_type": "code",
   "execution_count": 43,
   "metadata": {},
   "outputs": [
    {
     "name": "stdout",
     "output_type": "stream",
     "text": [
      "[ [90, 82, 77, 94, 78] ] 최고점수: 94 최저점수: 77\n",
      "[ [89, 71, 100, 82, 99] ] 최고점수: 100 최저점수: 71\n",
      "[ [98, 80, 92, 93, 91] ] 최고점수: 98 최저점수: 80\n",
      "[ [99, 91, 90, 71, 83] ] 최고점수: 99 최저점수: 71\n"
     ]
    }
   ],
   "source": [
    "#12\n",
    "국어=[90,82,77,94,78]\n",
    "수학=[89,71,100,82,99]\n",
    "윤리=[98,80,92,93,91]\n",
    "국사=[99,91,90,71,83]\n",
    "과목=[국어,수학,윤리,국사]\n",
    "for i in range(0,len(과목)):\n",
    "    print('[',과목[i],'] ',end='')\n",
    "    print(f'최고점수: {max(과목[i])} 최저점수: {min(과목[i])}')\n",
    "\n",
    "#리스트 이름 출력하는 방법 따로 못찾음 -1 방법 사용"
   ]
  },
  {
   "cell_type": "code",
   "execution_count": 8,
   "metadata": {},
   "outputs": [
    {
     "name": "stdout",
     "output_type": "stream",
     "text": [
      "[국어]  최고 점수: 94 , 최저 점수: 77\n",
      "[수학]  최고 점수: 100 , 최저 점수: 71\n",
      "[윤리]  최고 점수: 98 , 최저 점수: 80\n",
      "[국사]  최고 점수: 99 , 최저 점수: 71\n"
     ]
    }
   ],
   "source": [
    "#12-1\n",
    "국어=[90,82,77,94,78]\n",
    "수학=[89,71,100,82,99]\n",
    "윤리=[98,80,92,93,91]\n",
    "국사=[99,91,90,71,83]\n",
    "과목=[국어,수학,윤리,국사]\n",
    "과목2=['국어','수학','윤리','국사']\n",
    "for i in range(0,len(과목)):\n",
    "    print(f'[{과목2[i]}]  최고 점수: {max(과목[i])} , 최저 점수: {min(과목[i])}')"
   ]
  },
  {
   "cell_type": "code",
   "execution_count": 163,
   "metadata": {},
   "outputs": [
    {
     "name": "stdout",
     "output_type": "stream",
     "text": [
      "--[2단]-- 2*1=2 2*2=4 2*3=6 2*4=8 2*5=10 2*6=12 2*7=14 2*8=16 2*9=18 \n",
      "--[3단]-- 3*1=3 3*2=6 3*3=9 3*4=12 3*5=15 3*6=18 3*7=21 3*8=24 3*9=27 \n",
      "--[4단]-- 4*1=4 4*2=8 4*3=12 4*4=16 4*5=20 4*6=24 4*7=28 4*8=32 4*9=36 \n",
      "--[5단]-- 5*1=5 5*2=10 5*3=15 5*4=20 5*5=25 5*6=30 5*7=35 5*8=40 5*9=45 \n"
     ]
    }
   ],
   "source": [
    "#13\n",
    "시작=int(input('구구단 시작 숫자: '))\n",
    "종료=int(input('구구단 종료 숫자: '))\n",
    "for i in range (시작,종료+1):\n",
    "    print(f'--[{i}단]--',end=' ')\n",
    "    for j in range (1,10):\n",
    "        print(f'{i}*{j}={i*j}',end=' ')\n",
    "    print()"
   ]
  },
  {
   "cell_type": "code",
   "execution_count": 222,
   "metadata": {},
   "outputs": [
    {
     "name": "stdout",
     "output_type": "stream",
     "text": [
      "--[2단]--\t--[3단]--\t--[4단]--\t--[5단]--\t--[6단]--\t\n",
      "2*1= 2\t\t3*1= 3\t\t4*1= 4\t\t5*1= 5\t\t6*1= 6\t\t\n",
      "2*2= 4\t\t3*2= 6\t\t4*2= 8\t\t5*2= 10\t\t6*2= 12\t\t\n",
      "2*3= 6\t\t3*3= 9\t\t4*3= 12\t\t5*3= 15\t\t6*3= 18\t\t\n",
      "2*4= 8\t\t3*4= 12\t\t4*4= 16\t\t5*4= 20\t\t6*4= 24\t\t\n",
      "2*5= 10\t\t3*5= 15\t\t4*5= 20\t\t5*5= 25\t\t6*5= 30\t\t\n",
      "2*6= 12\t\t3*6= 18\t\t4*6= 24\t\t5*6= 30\t\t6*6= 36\t\t\n",
      "2*7= 14\t\t3*7= 21\t\t4*7= 28\t\t5*7= 35\t\t6*7= 42\t\t\n",
      "2*8= 16\t\t3*8= 24\t\t4*8= 32\t\t5*8= 40\t\t6*8= 48\t\t\n",
      "2*9= 18\t\t3*9= 27\t\t4*9= 36\t\t5*9= 45\t\t6*9= 54\t\t\n"
     ]
    }
   ],
   "source": [
    "#13-1 세로 출력\n",
    "def gugudan(시작,종료): \n",
    "    for a in range(시작, 종료+1):\n",
    "        print(f'--[{a}단]--', end  ='\\t')\n",
    "    print()\n",
    "    for b in range(1,10):\n",
    "        for a in range(시작, 종료+1): \n",
    "            print(f'{a}*{b}= {a*b}', end  ='\\t\\t')\n",
    "        print()\n",
    "시작=int(input('구구단 시작 숫자: '))\n",
    "종료=int(input('구구단 종료 숫자: '))\n",
    "gugudan(시작,종료)"
   ]
  },
  {
   "cell_type": "code",
   "execution_count": 270,
   "metadata": {},
   "outputs": [
    {
     "name": "stdout",
     "output_type": "stream",
     "text": [
      "--[2단]--     --[3단]--     --[4단]--     --[5단]--     --[6단]--     \n",
      "2*1=  2       3*1=  3       4*1=  4       5*1=  5       6*1=  6       \n",
      "2*2=  4       3*2=  6       4*2=  8       5*2= 10       6*2= 12       \n",
      "2*3=  6       3*3=  9       4*3= 12       5*3= 15       6*3= 18       \n",
      "2*4=  8       3*4= 12       4*4= 16       5*4= 20       6*4= 24       \n",
      "2*5= 10       3*5= 15       4*5= 20       5*5= 25       6*5= 30       \n",
      "2*6= 12       3*6= 18       4*6= 24       5*6= 30       6*6= 36       \n",
      "2*7= 14       3*7= 21       4*7= 28       5*7= 35       6*7= 42       \n",
      "2*8= 16       3*8= 24       4*8= 32       5*8= 40       6*8= 48       \n",
      "2*9= 18       3*9= 27       4*9= 36       5*9= 45       6*9= 54       \n"
     ]
    }
   ],
   "source": [
    "#13-2 반복문 1개로 구현\n",
    "start_n = int(input())  # 시작 구구단\n",
    "end_n = int(input())    # 종료 구구단\n",
    "\n",
    "n = start_n\n",
    "k = 1\n",
    "switch = True\n",
    "empty = \" \"\n",
    "while k != 10:\n",
    "    if switch:\n",
    "        print(f\"--[{n}단]--\",end='     ')\n",
    "        n +=1\n",
    "        if n==end_n+1: switch = False; n = start_n; print()\n",
    "\n",
    "    if not switch:\n",
    "        print(f\"{n}*{k}= {n*k:2}\",end='       ')\n",
    "        n +=1\n",
    "        if n==end_n+1: n = start_n; k +=1; print()"
   ]
  },
  {
   "cell_type": "code",
   "execution_count": 371,
   "metadata": {},
   "outputs": [
    {
     "name": "stdout",
     "output_type": "stream",
     "text": [
      "숫자:  12345\n",
      "만의 자리 :  1\n",
      "천의 자리 :  2\n",
      "백의 자리 :  3\n",
      "십의 자리 :  4\n",
      "일의 자리 :  5\n"
     ]
    }
   ],
   "source": [
    "#14\n",
    "숫자='12345' #input('숫자 입력: (예: 12345)')\n",
    "print('숫자: ',숫자)\n",
    "A=list(숫자)\n",
    "자리수=['','일','십','백','천','만']\n",
    "for i in range(1,len(A)+1):\n",
    "    print(f'{자리수[-i]}의 자리 : ',A[i-1])"
   ]
  },
  {
   "cell_type": "code",
   "execution_count": 271,
   "metadata": {},
   "outputs": [
    {
     "name": "stdout",
     "output_type": "stream",
     "text": [
      "숫자 입력:  12345\n",
      "만의 자리:  1\n",
      "천의 자리:  2\n",
      "백의 자리:  3\n",
      "십의 자리:  4\n",
      "일의 자리:  5\n"
     ]
    }
   ],
   "source": [
    "#14\n",
    "숫자='12345'\n",
    "print('숫자 입력: ',숫자)\n",
    "A=list(숫자)\n",
    "자리수=['만','천','백','십','일']\n",
    "for i in range(0,len(A)):\n",
    "    print(f'{자리수[i]}의 자리: ',A[i])"
   ]
  },
  {
   "cell_type": "code",
   "execution_count": 248,
   "metadata": {},
   "outputs": [
    {
     "name": "stdout",
     "output_type": "stream",
     "text": [
      "가나다\n",
      "None\n",
      "80\n",
      "1\n"
     ]
    }
   ],
   "source": [
    "#15\n",
    "def addData(*data):\n",
    "    if len(data)>0:\n",
    "        if isinstance(data[0],str):\n",
    "            total=''\n",
    "        else:\n",
    "            total=0\n",
    "    else:\n",
    "        total=0\n",
    "    for i in data:\n",
    "        total = total + i\n",
    "    if total==0:\n",
    "        total='None'\n",
    "    print(total)\n",
    "\n",
    "addData('가','나다')\n",
    "addData()\n",
    "addData(13,23,44)\n",
    "addData(True,False)"
   ]
  },
  {
   "cell_type": "code",
   "execution_count": 7,
   "metadata": {},
   "outputs": [
    {
     "name": "stdout",
     "output_type": "stream",
     "text": [
      "       *       \n",
      "      ***      \n",
      "     *****     \n",
      "    *******    \n",
      "   *********   \n",
      "  ***********  \n",
      " ************* \n",
      "***************\n",
      "      ****     \n",
      "      ****     \n",
      "Merry Christmas\n",
      "      2023     \n"
     ]
    }
   ],
   "source": [
    "#16\n",
    "n=-1\n",
    "while n<15:\n",
    "    n=n+2\n",
    "    print(('*'*n).center(15))\n",
    "print(('****').center(15))\n",
    "print(('****').center(15))\n",
    "print(('Merry Christmas').center(15))\n",
    "print(('2023').center(15))"
   ]
  },
  {
   "cell_type": "code",
   "execution_count": 267,
   "metadata": {},
   "outputs": [
    {
     "name": "stdout",
     "output_type": "stream",
     "text": [
      "Merry Christmas HaPPy New YEaR\n",
      "=> m E R R Y   c H R I S T M A S   h A p p Y   n E W   y e A r\n"
     ]
    }
   ],
   "source": [
    "#17\n",
    "text='Merry Christmas HaPPy New YEaR'\n",
    "A=[]\n",
    "for i in text:\n",
    "    if i.isupper():\n",
    "        A.append(i.lower())\n",
    "    else: A.append(i.upper())\n",
    "print(text)\n",
    "print('=>',*A)"
   ]
  },
  {
   "cell_type": "code",
   "execution_count": 6,
   "metadata": {},
   "outputs": [
    {
     "name": "stdout",
     "output_type": "stream",
     "text": [
      "Merry Christmas HaPPy New YEaR \n",
      " => m E R R Y   c H R I S T M A S   h A p p Y   n E W   y e A r\n"
     ]
    }
   ],
   "source": [
    "#17-1\n",
    "text='Merry Christmas HaPPy New YEaR'\n",
    "A=[i.swapcase() for i in text]\n",
    "print(text,'\\n =>',*A)"
   ]
  },
  {
   "cell_type": "code",
   "execution_count": 84,
   "metadata": {},
   "outputs": [
    {
     "name": "stdout",
     "output_type": "stream",
     "text": [
      "덧셈 결과 : 11\n",
      "뺄셈 결과 : -3\n",
      "곱셈 결과 : 28\n",
      "나누기 결과 : 0.5714285714285714\n",
      "몫 결과 : 0\n",
      "나머지 결과 : 4\n"
     ]
    }
   ],
   "source": [
    "#18\n",
    "def 연산(num1,num2):\n",
    "    print(f'덧셈 결과 : {num1+num2}')\n",
    "    print(f'뺄셈 결과 : {num1-num2}')\n",
    "    print(f'곱셈 결과 : {num1*num2}')\n",
    "    print(f'나누기 결과 : {num1/num2}')\n",
    "    print(f'몫 결과 : {num1//num2}')\n",
    "    print(f'나머지 결과 : {num1%num2}')\n",
    "num1=int(input('첫번째 숫자: '))\n",
    "num2=int(input('두번째 숫자: '))\n",
    "연산(num1,num2)"
   ]
  },
  {
   "cell_type": "code",
   "execution_count": 155,
   "metadata": {},
   "outputs": [
    {
     "name": "stdout",
     "output_type": "stream",
     "text": [
      "age    => 12\n",
      "phone  => 010-1111-2222\n",
      "job    => 학생\n",
      "loc    => 대구\n"
     ]
    }
   ],
   "source": [
    "#19\n",
    "def info(**data):\n",
    "    for key,value in data.items():\n",
    "        print(f'{key:6} => {value}')\n",
    "info(age=12,phone='010-1111-2222',job='학생',loc='대구')\n"
   ]
  },
  {
   "cell_type": "code",
   "execution_count": 254,
   "metadata": {},
   "outputs": [
    {
     "name": "stdout",
     "output_type": "stream",
     "text": [
      "------------------------------\n",
      "         <나의계산기>          \n",
      "------------------------------\n",
      "   1.입 력 2.덧    셈 3.뺄 셈   \n",
      "   4.곱 셈 5.나 눗 셈 6.종 료    \n",
      "------------------------------\n",
      "메뉴 선택(1~6):  1\n",
      "입력값 :  \n",
      "------------------------------\n",
      "         <나의계산기>          \n",
      "------------------------------\n",
      "   1.입 력 2.덧    셈 3.뺄 셈   \n",
      "   4.곱 셈 5.나 눗 셈 6.종 료    \n",
      "------------------------------\n"
     ]
    },
    {
     "ename": "ValueError",
     "evalue": "invalid literal for int() with base 10: ''",
     "output_type": "error",
     "traceback": [
      "\u001b[1;31m---------------------------------------------------------------------------\u001b[0m",
      "\u001b[1;31mValueError\u001b[0m                                Traceback (most recent call last)",
      "Cell \u001b[1;32mIn[254], line 9\u001b[0m\n\u001b[0;32m      7\u001b[0m \u001b[39mprint\u001b[39m(\u001b[39m'\u001b[39m\u001b[39m4.곱 셈 5.나 눗 셈 6.종 료\u001b[39m\u001b[39m'\u001b[39m\u001b[39m.\u001b[39mcenter(\u001b[39m26\u001b[39m))\n\u001b[0;32m      8\u001b[0m \u001b[39mprint\u001b[39m(\u001b[39m'\u001b[39m\u001b[39m-\u001b[39m\u001b[39m'\u001b[39m\u001b[39m*\u001b[39m\u001b[39m30\u001b[39m)\n\u001b[1;32m----> 9\u001b[0m a \u001b[39m=\u001b[39m \u001b[39mint\u001b[39;49m(\u001b[39minput\u001b[39;49m(\u001b[39m'\u001b[39;49m\u001b[39m메뉴 선택(1~6): \u001b[39;49m\u001b[39m'\u001b[39;49m))\n\u001b[0;32m     11\u001b[0m \u001b[39mif\u001b[39;00m a \u001b[39m==\u001b[39m \u001b[39m1\u001b[39m:\n\u001b[0;32m     12\u001b[0m     \u001b[39mprint\u001b[39m(\u001b[39m'\u001b[39m\u001b[39m메뉴 선택(1~6): \u001b[39m\u001b[39m'\u001b[39m,a)\n",
      "\u001b[1;31mValueError\u001b[0m: invalid literal for int() with base 10: ''"
     ]
    }
   ],
   "source": [
    "#20\n",
    "while True:\n",
    "    print('-'*30)\n",
    "    print('<나의계산기>'.center(26))\n",
    "    print('-'*30)\n",
    "    print('1.입 력 2.덧    셈 3.뺄 셈'.center(26))\n",
    "    print('4.곱 셈 5.나 눗 셈 6.종 료'.center(26))\n",
    "    print('-'*30)\n",
    "    a = int(input('메뉴 선택(1~6): '))\n",
    "\n",
    "    if a == 1:\n",
    "        print('메뉴 선택(1~6): ',a)\n",
    "        입력값=input('입력 : (예: 2,5)')\n",
    "        print('입력값 : ',입력값)\n",
    "        A=[]\n",
    "        for i in 입력값:\n",
    "            if i.isdigit():\n",
    "                A.append(int(i))\n",
    "    elif a == 2:\n",
    "        print('메뉴선택: ',a)\n",
    "        print(f'{A[0]}+{A[1]}={A[0]+A[1]}')\n",
    "    elif a == 3:\n",
    "        print('메뉴선택: ',a)\n",
    "        print(f'{A[0]}-{A[1]}={A[0]-A[1]}')\n",
    "    elif a == 4:\n",
    "        print('메뉴선택: ',a)\n",
    "        print(f'{A[0]}*{A[1]}={A[0]*A[1]}')\n",
    "    elif a == 5:\n",
    "        print('메뉴선택: ',a)\n",
    "        print(f'{A[0]}/{A[1]}={A[0]/A[1]}')\n",
    "    elif a == 6:\n",
    "        print('나의 계산기 프로그램을 종료합니다')\n",
    "        break"
   ]
  },
  {
   "cell_type": "code",
   "execution_count": 366,
   "metadata": {},
   "outputs": [
    {
     "name": "stdout",
     "output_type": "stream",
     "text": [
      "5*1=5  5*2=10  5*3=15  5*4=20  5*5=25  5*6=30  5*7=35  5*8=40  5*9=45\n"
     ]
    }
   ],
   "source": [
    "#코딩테스트문제1\n",
    "i=int(input('출력 원하는 단 입력: '))\n",
    "A=[f'{i}*{j}={i*j}'for j in range(1,10) ]\n",
    "print(*A,sep='  ')"
   ]
  },
  {
   "cell_type": "code",
   "execution_count": 149,
   "metadata": {},
   "outputs": [
    {
     "name": "stdout",
     "output_type": "stream",
     "text": [
      "1*1=1  1*2=2  1*3=3  1*4=4  1*5=5  1*6=6  1*7=7  1*8=8  1*9=9  2*1=2  2*2=4  2*3=6  2*4=8  2*5=10  2*6=12  2*7=14  2*8=16  2*9=18  3*1=3  3*2=6  3*3=9  3*4=12  3*5=15  3*6=18  3*7=21  3*8=24  3*9=27  4*1=4  4*2=8  4*3=12  4*4=16  4*5=20  4*6=24  4*7=28  4*8=32  4*9=36  5*1=5  5*2=10  5*3=15  5*4=20  5*5=25  5*6=30  5*7=35  5*8=40  5*9=45  6*1=6  6*2=12  6*3=18  6*4=24  6*5=30  6*6=36  6*7=42  6*8=48  6*9=54  7*1=7  7*2=14  7*3=21  7*4=28  7*5=35  7*6=42  7*7=49  7*8=56  7*9=63  8*1=8  8*2=16  8*3=24  8*4=32  8*5=40  8*6=48  8*7=56  8*8=64  8*9=72  9*1=9  9*2=18  9*3=27  9*4=36  9*5=45  9*6=54  9*7=63  9*8=72  9*9=81\n"
     ]
    }
   ],
   "source": [
    "A=[f'{i}*{j}={i*j}' for i in range(1,10) for j in range(1,10)]\n",
    "print(*A,sep='  ')"
   ]
  },
  {
   "cell_type": "code",
   "execution_count": null,
   "metadata": {},
   "outputs": [],
   "source": [
    "#코딩테스트문제2\n",
    "#="
   ]
  },
  {
   "cell_type": "code",
   "execution_count": 46,
   "metadata": {},
   "outputs": [
    {
     "name": "stdout",
     "output_type": "stream",
     "text": [
      "[배트맨] 최고 점수: 99 국사 , 최저 점수: 89 수학\n",
      "[마징가] 최고 점수: 91 국사 , 최저 점수: 71 윤리\n",
      "[피오나] 최고 점수: 99 수학 , 최저 점수: 78 국어\n"
     ]
    }
   ],
   "source": [
    "#코딩테스트문제3\n",
    "배트맨={90:'국어',89:'수학',98:'윤리',99:'국사'}\n",
    "마징가={82:'국어',73:'수학',71:'윤리',91:'국사'}\n",
    "피오나={78:'국어',99:'수학',91:'윤리',83:'국사'}\n",
    "print('[배트맨] 최고 점수:',max(배트맨.keys()),배트맨.get(max(배트맨.keys())), ', 최저 점수:',min(배트맨.keys()),배트맨.get(min(배트맨.keys()))) \n",
    "print('[마징가] 최고 점수:',max(마징가.keys()),마징가.get(max(마징가.keys())), ', 최저 점수:',min(마징가.keys()),마징가.get(min(마징가.keys()))) \n",
    "print('[피오나] 최고 점수:',max(피오나.keys()),피오나.get(max(피오나.keys())), ', 최저 점수:',min(피오나.keys()),피오나.get(min(피오나.keys()))) \n"
   ]
  },
  {
   "cell_type": "code",
   "execution_count": 76,
   "metadata": {},
   "outputs": [
    {
     "name": "stdout",
     "output_type": "stream",
     "text": [
      "[ 배트맨 ] 최고 점수: 99 국사   최저 점수: 89 수학\n",
      "[ 마징가 ] 최고 점수: 91 국사   최저 점수: 71 윤리\n",
      "[ 피오나 ] 최고 점수: 99 수학   최저 점수: 78 국어\n"
     ]
    }
   ],
   "source": [
    "#코딩테스트3-1\n",
    "배트맨={90:'국어',89:'수학',98:'윤리',99:'국사'}\n",
    "마징가={82:'국어',73:'수학',71:'윤리',91:'국사'}\n",
    "피오나={78:'국어',99:'수학',91:'윤리',83:'국사'}\n",
    "이름=[배트맨,마징가,피오나]\n",
    "이름2=['배트맨','마징가','피오나']\n",
    "for i in range(0,len(이름)):\n",
    "    print('[',이름2[i],'] ',end='')\n",
    "    print('최고 점수:',max(이름[i].keys()),이름[i].get(max(이름[i].keys())), '  최저 점수:',min(이름[i].keys()),이름[i].get(min(이름[i].keys())))"
   ]
  },
  {
   "cell_type": "code",
   "execution_count": 58,
   "metadata": {},
   "outputs": [
    {
     "name": "stdout",
     "output_type": "stream",
     "text": [
      "27세, 남자, 1996년6월2일 쥐띠 쌍둥이자리\n"
     ]
    }
   ],
   "source": [
    "#코딩테스트문제4\n",
    "id='960602-1234567' #input('주민번호 입력(000000-0000000): ')\n",
    "A=[]\n",
    "if int(id[7])==1 or int(id[7])==2:\n",
    "    A.append(1)\n",
    "    A.append(9)\n",
    "else:\n",
    "    A.append(2)\n",
    "    A.append(0)\n",
    "for i in id:\n",
    "    if i.isdigit():\n",
    "        A.append(int(i))\n",
    "#나이\n",
    "print(f'{2022-(A[0]*1000+A[1]*100+A[2]*10+A[3])+1}세',end=', ')\n",
    "#성별\n",
    "if A[8]==1 or A[8]==1:\n",
    "    print('남자',end=', ')\n",
    "else: print('여자',end=', ')\n",
    "print(f'{A[0]*1000+A[1]*100+A[2]*10+A[3]}년{A[4]*10+A[5]}월{A[6]*10+A[7]}일',end=' ')\n",
    "#띠\n",
    "if (A[0]*1000+A[1]*100+A[2]*10+A[3])%12 ==0:\n",
    "    print('원숭이띠',end=' ')\n",
    "if (A[0]*1000+A[1]*100+A[2]*10+A[3])%12 ==1:\n",
    "    print('닭띠',end=' ')\n",
    "if (A[0]*1000+A[1]*100+A[2]*10+A[3])%12 ==2:\n",
    "    print('개띠',end=' ')\n",
    "if (A[0]*1000+A[1]*100+A[2]*10+A[3])%12 ==3:\n",
    "    print('돼지띠',end=' ')\n",
    "if (A[0]*1000+A[1]*100+A[2]*10+A[3])%12 ==4:\n",
    "    print('쥐띠',end=' ')\n",
    "if (A[0]*1000+A[1]*100+A[2]*10+A[3])%12 ==5:\n",
    "    print('소띠',end=' ')\n",
    "if (A[0]*1000+A[1]*100+A[2]*10+A[3])%12 ==6:\n",
    "    print('호랑이띠',end=' ')\n",
    "if (A[0]*1000+A[1]*100+A[2]*10+A[3])%12 ==7:\n",
    "    print('토끼띠',end=' ')\n",
    "if (A[0]*1000+A[1]*100+A[2]*10+A[3])%12 ==8:\n",
    "    print('용띠',end=' ')\n",
    "if (A[0]*1000+A[1]*100+A[2]*10+A[3])%12 ==9:\n",
    "    print('뱀띠',end=' ')\n",
    "if (A[0]*1000+A[1]*100+A[2]*10+A[3])%12 ==10:\n",
    "    print('말띠',end=' ')\n",
    "if (A[0]*1000+A[1]*100+A[2]*10+A[3])%12 ==11:\n",
    "    print('양띠',end=' ')\n",
    "#별자리\n",
    "if 120 <= A[4]*1000+A[5]*100+A[6]*10+A[7] <=218:\n",
    "    print('물병자리')\n",
    "if 219 <= A[4]*1000+A[5]*100+A[6]*10+A[7] <=320:\n",
    "    print('물고기자리')\n",
    "if 321 <= A[4]*1000+A[5]*100+A[6]*10+A[7] <=419:\n",
    "    print('양자리')\n",
    "if 420 <= A[4]*1000+A[5]*100+A[6]*10+A[7] <=520:\n",
    "    print('황소자리')\n",
    "if 521 <= A[4]*1000+A[5]*100+A[6]*10+A[7] <=621:\n",
    "    print('쌍둥이자리')\n",
    "if 622 <= A[4]*1000+A[5]*100+A[6]*10+A[7] <=722:\n",
    "    print('게자리')\n",
    "if 723 <= A[4]*1000+A[5]*100+A[6]*10+A[7] <=822:\n",
    "    print('사자자리')\n",
    "if 823 <= A[4]*1000+A[5]*100+A[6]*10+A[7] <=923:\n",
    "    print('처녀자리')\n",
    "if 924 <= A[4]*1000+A[5]*100+A[6]*10+A[7] <=1022:\n",
    "    print('천칭자리')\n",
    "if 1023 <= A[4]*1000+A[5]*100+A[6]*10+A[7] <=1122:\n",
    "    print('전갈자리')\n",
    "if 1123 <= A[4]*1000+A[5]*100+A[6]*10+A[7] <=1224:\n",
    "    print('궁수자리')\n",
    "if 1225 <= A[4]*1000+A[5]*100+A[6]*10+A[7] or A[4]*1000+A[5]*100+A[6]*10+A[7] <=119:\n",
    "    print('염소자리')"
   ]
  },
  {
   "cell_type": "code",
   "execution_count": 65,
   "metadata": {},
   "outputs": [
    {
     "name": "stdout",
     "output_type": "stream",
     "text": [
      "30세, 남자, 1993년3월3일 닭띠 물고기자리\n"
     ]
    }
   ],
   "source": [
    "id='930303-1234567' #input('주민번호 입력(000000-0000000): ')\n",
    "A=[]\n",
    "if int(id[7])==1 or int(id[7])==2:\n",
    "    A.append(1)\n",
    "    A.append(9)\n",
    "else:\n",
    "    A.append(2)\n",
    "    A.append(0)\n",
    "for i in id:\n",
    "    if i.isdigit():\n",
    "        A.append(int(i))\n",
    "#나이\n",
    "B=A[0]*1000+A[1]*100+A[2]*10+A[3]\n",
    "print(f'{2022-B+1}세',end=', ')\n",
    "#성별\n",
    "if A[8]==1 or A[8]==3:print('남자',end=', ')\n",
    "else: print('여자',end=', ')\n",
    "#생년월일\n",
    "print(f'{B}년{A[4]*10+A[5]}월{A[6]*10+A[7]}일',end=' ')\n",
    "#띠\n",
    "띠=['원숭이띠','닭띠','개띠','돼지띠','쥐띠','소띠','호랑이띠','토끼띠','용띠','뱀띠','말띠','양띠']\n",
    "if B%12 ==0: print(띠[0],end=' ')\n",
    "if B%12 ==1: print(띠[1],end=' ')\n",
    "if B%12 ==2: print(띠[2],end=' ')\n",
    "if B%12 ==3: print(띠[3],end=' ')\n",
    "if B%12 ==4: print(띠[4],end=' ')\n",
    "if B%12 ==5: print(띠[5],end=' ')\n",
    "if B%12 ==6: print(띠[6],end=' ')\n",
    "if B%12 ==7: print(띠[7],end=' ')\n",
    "if B%12 ==8: print(띠[8],end=' ')\n",
    "if B%12 ==9: print(띠[9],end=' ')\n",
    "if B%12 ==10: print(띠[10],end=' ')\n",
    "if B%12 ==11: print(띠[11],end=' ')\n",
    "#별자리\n",
    "C=A[4]*1000+A[5]*100+A[6]*10+A[7]\n",
    "별자리=['물병자리','물고기자리','양자리','황소자리','쌍둥이자리','게자리','사자자리','처녀자리','천칭자리','전갈자리','궁수자리','염소자리']\n",
    "if 120 <= C <=218: print(별자리[0])\n",
    "if 219 <= C <=320: print(별자리[1])\n",
    "if 321 <= C <=419: print(별자리[2])\n",
    "if 420 <= C <=520: print(별자리[3])\n",
    "if 521 <= C <=621: print(별자리[4])\n",
    "if 622 <= C <=722: print(별자리[5])\n",
    "if 723 <= C <=822: print(별자리[6])\n",
    "if 823 <= C <=923: print(별자리[7])\n",
    "if 924 <= C <=1022: print(별자리[8])\n",
    "if 1023 <= C <=1122: print(별자리[9])\n",
    "if 1123 <= C <=1224: print(별자리[10])\n",
    "if 1225 <= C or C <=119: print(별자리[11])"
   ]
  },
  {
   "cell_type": "code",
   "execution_count": 515,
   "metadata": {},
   "outputs": [
    {
     "name": "stdout",
     "output_type": "stream",
     "text": [
      "---------------------------------------------------\n",
      "<영어변환기>\n",
      "---------------------------------------------------\n",
      "1.입  력 2.대문자 3.소문자\n",
      "4.코드화 5.종  료\n",
      "---------------------------------------------------\n",
      "메뉴선택:  1\n",
      "영어 입력:  hi\n",
      "---------------------------------------------------\n",
      "<영어변환기>\n",
      "---------------------------------------------------\n",
      "1.입  력 2.대문자 3.소문자\n",
      "4.코드화 5.종  료\n",
      "---------------------------------------------------\n",
      "메뉴선택:  2\n",
      "HI\n",
      "---------------------------------------------------\n",
      "<영어변환기>\n",
      "---------------------------------------------------\n",
      "1.입  력 2.대문자 3.소문자\n",
      "4.코드화 5.종  료\n",
      "---------------------------------------------------\n",
      "영어 변환기 프로그램을 종료합니다\n"
     ]
    }
   ],
   "source": [
    "#코딩테스트문제5\n",
    "while True:\n",
    "    print('---------------------------------------------------')\n",
    "    print('<영어변환기>')\n",
    "    print('---------------------------------------------------')\n",
    "    print('1.입  력 2.대문자 3.소문자')\n",
    "    print('4.코드화 5.종  료')\n",
    "    print('---------------------------------------------------')\n",
    "\n",
    "    a = int(input('메뉴 선택(1~6): '))\n",
    "\n",
    "    if a == 1:\n",
    "        print('메뉴선택: ',a)\n",
    "        text=input('영어입력 :')\n",
    "        print('영어 입력: ',text)\n",
    "    elif a == 2:\n",
    "        print('메뉴선택: ',a)\n",
    "        print(text.upper())\n",
    "    elif a == 3:\n",
    "        print('메뉴선택: ',a)\n",
    "        print(text.lower())\n",
    "    elif a == 4:\n",
    "        print('메뉴선택: ',a)\n",
    "        for i in text:\n",
    "            print(hex(ord(i)),end='')\n",
    "        print()\n",
    "    elif a == 5:\n",
    "        print('영어 변환기 프로그램을 종료합니다')\n",
    "        break"
   ]
  }
 ],
 "metadata": {
  "kernelspec": {
   "display_name": "Python 3.11.0 64-bit",
   "language": "python",
   "name": "python3"
  },
  "language_info": {
   "codemirror_mode": {
    "name": "ipython",
    "version": 3
   },
   "file_extension": ".py",
   "mimetype": "text/x-python",
   "name": "python",
   "nbconvert_exporter": "python",
   "pygments_lexer": "ipython3",
   "version": "3.11.0"
  },
  "orig_nbformat": 4,
  "vscode": {
   "interpreter": {
    "hash": "5238573367df39f7286bb46f9ff5f08f63a01a80960060ce41e3c79b190280fa"
   }
  }
 },
 "nbformat": 4,
 "nbformat_minor": 2
}
