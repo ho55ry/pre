{
 "cells": [
  {
   "cell_type": "code",
   "execution_count": 28,
   "metadata": {},
   "outputs": [
    {
     "name": "stdout",
     "output_type": "stream",
     "text": [
      "정렬 결과 : ['zero', 'child', 'Zoo', 'Supreme', 'Good', 'Flower', 'Bape']\n",
      "가장 높은 문자열 : zero, 가장 낮은 문자열 : Bape\n"
     ]
    }
   ],
   "source": [
    "#1\n",
    "def 정렬(text):\n",
    "    text=text.split(',')\n",
    "    text.sort(reverse=True)\n",
    "    print(f'정렬 결과 : {text}')\n",
    "    print(f'가장 높은 문자열 : {text[0]}, 가장 낮은 문자열 : {text[-1]}') # text[0]=max(text)\n",
    "\n",
    "#문자=input('문자열 입력 : ')\n",
    "문자='Good,child,zero,Zoo,Flower,Bape,Supreme'\n",
    "정렬(문자)"
   ]
  },
  {
   "cell_type": "code",
   "execution_count": 24,
   "metadata": {},
   "outputs": [
    {
     "name": "stdout",
     "output_type": "stream",
     "text": [
      "\"가나다\"의 인코딩 : 0xac000xb0980xb2e4\n",
      "\"가나다\"의 인코딩 : 0b10101100000000000b10110000100110000b1011001011100100\n"
     ]
    }
   ],
   "source": [
    "#2\n",
    "def 인코딩(text):\n",
    "    A=[hex(ord(i)) for i in text]\n",
    "    B=[bin(ord(i)) for i in text]\n",
    "    print(f'\\\"{text}\"의 인코딩 : ',*A,sep='')\n",
    "    print(f'\\\"{text}\"의 인코딩 : ',*B,sep='')\n",
    "\n",
    "# 문자=input('문자열 입력 : ')\n",
    "문자='가나다'\n",
    "인코딩(문자)"
   ]
  },
  {
   "cell_type": "code",
   "execution_count": 37,
   "metadata": {},
   "outputs": [
    {
     "name": "stdout",
     "output_type": "stream",
     "text": [
      "\"123,42,98,18\"의 합 : 38, 가장 큰 수 : 9, 가장 작은 수 : 1\n"
     ]
    }
   ],
   "source": [
    "#3\n",
    "def 산수(nums):\n",
    "    A=list(filter(str.isdigit,nums)); B=[]\n",
    "    for i in A: B.append(int(i))\n",
    "    print(f'\\\"{nums}\"의 합 : {sum(B)}, 가장 큰 수 : {max(B)}, 가장 작은 수 : {min(B)}')\n",
    "\n",
    "#숫자=input('숫자와 콤마로만 이루어진 문자열 입력 :')\n",
    "숫자='123,42,98,18'\n",
    "산수(숫자)"
   ]
  },
  {
   "cell_type": "code",
   "execution_count": 42,
   "metadata": {},
   "outputs": [
    {
     "name": "stdout",
     "output_type": "stream",
     "text": [
      "1#3#567#91011#13#151617#1920\n",
      "21#23#252627#293031#33#353637#3940\n",
      "41#43#454647#495051#53#555657#5960\n",
      "61#63#656667#697071#73#757677#7980\n",
      "81#83#858687#899091#93#959697#99100\n"
     ]
    }
   ],
   "source": [
    "#4\n",
    "def 게임(num):\n",
    "    num=int(num)\n",
    "    for i in range(1,num+1):\n",
    "        if i%10 in [2,4,8]: print('#',end='')\n",
    "        elif i%20==0: print(i)\n",
    "        else: print(i,end='')\n",
    "\n",
    "숫자=input('게임 정수 입력 : ')\n",
    "게임(숫자)"
   ]
  },
  {
   "cell_type": "code",
   "execution_count": 54,
   "metadata": {},
   "outputs": [
    {
     "name": "stdout",
     "output_type": "stream",
     "text": [
      "Mar Spring\n"
     ]
    }
   ],
   "source": [
    "#5\n",
    "def 출력(월):\n",
    "    월=int(월)\n",
    "    달=['Jan','Feb','Mar','Apr','May','Jun','Jul','Aug','Sep','Oct','Nov','Dec']\n",
    "    if 월 in [3,4,5]: print(달[월-1],'Spring')\n",
    "    elif 월 in [6,7,8]: print(달[월-1],'Summer')\n",
    "    elif 월 in [9,10,11]: print(달[월-1],'Fall')\n",
    "    elif 월 in [12,1,2]: print(달[월-1],'Winter')\n",
    "    else: print('존재하지 않는 월입니다.')\n",
    "\n",
    "월=input('좋아하는 월 입력 : ')\n",
    "출력(월)"
   ]
  },
  {
   "cell_type": "code",
   "execution_count": 63,
   "metadata": {},
   "outputs": [
    {
     "name": "stdout",
     "output_type": "stream",
     "text": [
      "907,000$\n"
     ]
    }
   ],
   "source": [
    "#6\n",
    "def 출력(data):\n",
    "    a,b=data.split(', ')\n",
    "    print(format(int(a),','),b,sep='')\n",
    "\n",
    "data='907000, $'\n",
    "출력(data)"
   ]
  },
  {
   "cell_type": "code",
   "execution_count": 69,
   "metadata": {},
   "outputs": [
    {
     "name": "stdout",
     "output_type": "stream",
     "text": [
      "8의 약수 : 1, 2, 4, 8\n"
     ]
    }
   ],
   "source": [
    "#7\n",
    "def 약수(num):\n",
    "    num=int(num); A=[]\n",
    "    for i in range(1,num+1):\n",
    "        if num%i==0: A.append(i)\n",
    "    print(f'{num}의 약수 : ',end='')\n",
    "    print(*A,sep=', ')\n",
    "\n",
    "숫자=input('약수 구하고 싶은 수 : ')\n",
    "약수(숫자)"
   ]
  },
  {
   "cell_type": "code",
   "execution_count": 70,
   "metadata": {},
   "outputs": [
    {
     "name": "stdout",
     "output_type": "stream",
     "text": [
      "2, 0, 3\n",
      "0, 1, 2\n"
     ]
    }
   ],
   "source": [
    "#8\n",
    "def 출력(text):\n",
    "    A=list(filter(str.isdigit,text))\n",
    "    B=list(dict.fromkeys(A))\n",
    "    print(*B,sep=', ')\n",
    "\n",
    "출력('Happy New Year 2023')\n",
    "출력('홍길동 010-1111-2222')"
   ]
  },
  {
   "cell_type": "code",
   "execution_count": 92,
   "metadata": {},
   "outputs": [
    {
     "name": "stdout",
     "output_type": "stream",
     "text": [
      "당신의 한국 나이는 27세 입니다.\n",
      "당신의 외국 나이는 26세 입니다.\n"
     ]
    }
   ],
   "source": [
    "#9\n",
    "def 나이(birth):\n",
    "    A=list(filter(str.isdigit,birth)); B=[]\n",
    "    for i in A: B.append(int(i))\n",
    "    C=B[0]*1000+B[1]*100+B[2]*10+B[3]\n",
    "    print(f'당신의 한국 나이는 {2022-C+1}세 입니다.')\n",
    "    if B[4]*10+B[5] <= 12:\n",
    "        if B[6]*10+B[7] < 26:\n",
    "            print(f'당신의 외국 나이는 {2022-C}세 입니다.')\n",
    "        else: print(f'당신의 외국 나이는 {2022-C-1}세 입니다.')\n",
    "    else: print(f'당신의 외국 나이는 {2022-C-1}세 입니다.')\n",
    "birth='1996.12.24'\n",
    "나이(birth)"
   ]
  },
  {
   "cell_type": "code",
   "execution_count": 111,
   "metadata": {},
   "outputs": [
    {
     "name": "stdout",
     "output_type": "stream",
     "text": [
      "7! => 7 * 6 * 5 * 4 * 3 * 2 * 1 = 5040\n"
     ]
    }
   ],
   "source": [
    "#10\n",
    "num=int(input('팩토리얼 수 입력 : '))\n",
    "A=1; B=[]; pre=num\n",
    "if num==0: print('0! => 0')\n",
    "else:\n",
    "    while num>1:\n",
    "        A=A*num\n",
    "        num=num-1\n",
    "        B.append(num)\n",
    "    print(f'{pre}! => {pre}',end=' * ')\n",
    "    print(*B,sep=' * ',end=' = ')\n",
    "    print(A)"
   ]
  },
  {
   "cell_type": "code",
   "execution_count": null,
   "metadata": {},
   "outputs": [],
   "source": [
    "#11\n",
    "범위=int(input('범위 숫자 입력 : '))\n",
    "B=[]\n",
    "for num in range(1,범위+1):\n",
    "    A=[]\n",
    "    for i in range(1,num+1):\n",
    "        if num%i==0:A.append(i)\n",
    "    if len(A)==2:\n",
    "        B.append(A[-1])\n",
    "        #print(A[-1],end=', ')\n",
    "        #print(A.pop(),end=', ')\n",
    "print(f'1 ~ {범위}에서 소수 : ',end='')\n",
    "print(*B,sep=', ')"
   ]
  }
 ],
 "metadata": {
  "kernelspec": {
   "display_name": "Python 3",
   "language": "python",
   "name": "python3"
  },
  "language_info": {
   "codemirror_mode": {
    "name": "ipython",
    "version": 3
   },
   "file_extension": ".py",
   "mimetype": "text/x-python",
   "name": "python",
   "nbconvert_exporter": "python",
   "pygments_lexer": "ipython3",
   "version": "3.10.9 (tags/v3.10.9:1dd9be6, Dec  6 2022, 20:01:21) [MSC v.1934 64 bit (AMD64)]"
  },
  "orig_nbformat": 4,
  "vscode": {
   "interpreter": {
    "hash": "23e7cd0fac68f14e6f831e1325482e22752427aa2c3bc43fde0e47b392ec96a8"
   }
  }
 },
 "nbformat": 4,
 "nbformat_minor": 2
}
