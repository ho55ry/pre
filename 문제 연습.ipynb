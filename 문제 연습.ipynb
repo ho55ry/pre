{
 "cells": [
  {
   "cell_type": "code",
   "execution_count": 102,
   "metadata": {},
   "outputs": [
    {
     "name": "stdout",
     "output_type": "stream",
     "text": [
      "정렬 결과: ['f', 'e', 'd', 'c', 'b', 'a']\n",
      "가장 높은 문자열: f, 가장 낮은 문자열: a\n"
     ]
    }
   ],
   "source": [
    "#1. 문자열 리스트를 입력 받아서 내림차순 결과 가장 낮은 문자열과 가장 높은 문자열을 출력하는 함수를 구현하세요.\n",
    "def 정렬(A):\n",
    "    A.sort(reverse=True)\n",
    "    print(f'정렬 결과: {A}\\n가장 높은 문자열: {A[0]}, 가장 낮은 문자열: {A[-1]}')\n",
    "data=[]\n",
    "B=[data.append(input()) for i in range(6)]\n",
    "정렬(data)"
   ]
  },
  {
   "cell_type": "code",
   "execution_count": 20,
   "metadata": {},
   "outputs": [
    {
     "name": "stdout",
     "output_type": "stream",
     "text": [
      "\"가나다\"의 인코딩: 0xac000xb0980xb2e4\n",
      "\"가나다\"의 인코딩: 0b10101100000000000b10110000100110000b1011001011100100\n"
     ]
    }
   ],
   "source": [
    "#2. 문자열을 입력하면 UTF-8로 인코딩된 값을 아래와 같이 출력된 함수를 구현해 주세요.\n",
    "text=input('입력: ')\n",
    "A=[hex(ord(i)) for i in text]\n",
    "B=[bin(ord(i)) for i in text]\n",
    "print(f'\\\"{text}\"의 인코딩: ',*A,sep='')\n",
    "print(f'\\\"{text}\"의 인코딩: ',*B,sep='')"
   ]
  },
  {
   "cell_type": "code",
   "execution_count": 104,
   "metadata": {},
   "outputs": [
    {
     "name": "stdout",
     "output_type": "stream",
     "text": [
      "\"가나다\"의 인코딩: 0xac000xb0980xb2e4\n",
      "\"가나다\"의 인코딩: 0b10101100000000000b10110000100110000b1011001011100100\n"
     ]
    }
   ],
   "source": [
    "#2. 문자열을 입력하면 UTF-8로 인코딩된 값을 아래와 같이 출력된 함수를 구현해 주세요.\n",
    "def icd(A):\n",
    "    A=[hex(ord(i)) for i in text]\n",
    "    B=[bin(ord(i)) for i in text]\n",
    "    print(f'\\\"{text}\"의 인코딩: ',*A,sep='')\n",
    "    print(f'\\\"{text}\"의 인코딩: ',*B,sep='')\n",
    "data='가나다' #input()\n",
    "icd(data)"
   ]
  },
  {
   "cell_type": "code",
   "execution_count": 25,
   "metadata": {},
   "outputs": [
    {
     "name": "stdout",
     "output_type": "stream",
     "text": [
      "\"1,234,2,98,18\"의 합:  38 , 가장 큰 수:  9 , 가장 작은 수:  1\n"
     ]
    }
   ],
   "source": [
    "#3. 숫자와 콤마로만 이루어진 문자열 data가 주어진다. 이때, data에 포함되어있는 자연 수의 합과 가장 작은 수, 가장 큰 수를 출력하는 함수를 구현하세요.\n",
    "data='1,234,2,98,18'\n",
    "A=[]\n",
    "num=['0','1','2','3','4','5','6','7','8','9']\n",
    "for i in data:\n",
    "    if i in num:\n",
    "        A.append(int(i))\n",
    "print(f'\\\"{data}\"의 합: ',sum(A),', 가장 큰 수: ',max(A),', 가장 작은 수: ',min(A))"
   ]
  },
  {
   "cell_type": "code",
   "execution_count": 29,
   "metadata": {},
   "outputs": [
    {
     "name": "stdout",
     "output_type": "stream",
     "text": [
      "1#3#567#91011#13#151617#1920\n",
      "21#23#252627#293031#33#353637#3940\n",
      "41#43#454647#495051#53#555657#5960\n",
      "61#63#656667#697071#73#757677#7980\n",
      "81#83#858687#899091#93#959697#99100\n"
     ]
    }
   ],
   "source": [
    "#4. 2, 4, 8 게임은 숫자의 끝 자리가 2, 4, 8로 끝나는 숫자의 경우 다른 문자로 출력하는 게임으로 아래 조건을 만족하도록 구현하자.\n",
    "num=int(input('숫자 입력: '))\n",
    "for i in range(1,num+1):\n",
    "    if i%10 in [2,4,8]:\n",
    "        print('#',end='')\n",
    "    elif i%20==0:\n",
    "        print(i)\n",
    "    else: print(i,end='')"
   ]
  },
  {
   "cell_type": "code",
   "execution_count": 53,
   "metadata": {},
   "outputs": [
    {
     "name": "stdout",
     "output_type": "stream",
     "text": [
      "존재하지 않는 월입니다.\n"
     ]
    }
   ],
   "source": [
    "#5. 월(Month)을 입력 받아 해당 월(Month)의 영어와 계절을 출력하는 코드를 작성하세요.\n",
    "월=int(input('좋아하는 월 입력: '))\n",
    "mon=['Jan','Feb','Mar','Apr','May','Jun','Jul','Aug','Sep','Oct','Nov','Dec']\n",
    "if 월 in [3,4,5]: print(mon[월-1],'Spring')\n",
    "elif 월 in [6,7,8]: print(mon[월-1],'Summer')\n",
    "elif 월 in [9,10,11]: print(mon[월-1],'Fall')\n",
    "elif 월 in [12,1,2]: print(mon[월-1],'Winter')\n",
    "else: print('존재하지 않는 월입니다.')"
   ]
  },
  {
   "cell_type": "code",
   "execution_count": 71,
   "metadata": {},
   "outputs": [
    {
     "name": "stdout",
     "output_type": "stream",
     "text": [
      "123,456$\n"
     ]
    }
   ],
   "source": [
    "#6. 숫자와 화폐단위를 입력 받아 세자리 마다 쉼표(,) 찍어서 출력하는 기능을 구현하세요.\n",
    "\n",
    "def fun(num,unit):\n",
    "    print(format(int(num), ','),end='')\n",
    "    print(unit)\n",
    "A=('123456')\n",
    "B='$'\n",
    "fun(A,B)"
   ]
  },
  {
   "cell_type": "code",
   "execution_count": 77,
   "metadata": {},
   "outputs": [
    {
     "name": "stdout",
     "output_type": "stream",
     "text": [
      "8의 약수: 1,2,4,8\n"
     ]
    }
   ],
   "source": [
    "#7. 입력받은 정수에 대한 약수를 출력하는 함수를 만들어 주세요.\n",
    "A=int(input('약수 구하고 싶은 수: '))\n",
    "B=[]\n",
    "for i in range(1,A+1):\n",
    "    if A%i==0:\n",
    "        B.append(i)\n",
    "print(f'{A}의 약수: ',end='')\n",
    "print(*B,sep=',')"
   ]
  },
  {
   "cell_type": "code",
   "execution_count": 83,
   "metadata": {},
   "outputs": [
    {
     "name": "stdout",
     "output_type": "stream",
     "text": [
      "0, 1, 3, 7, 8, 2\n"
     ]
    }
   ],
   "source": [
    "#8. 입력 받은 메시지 중에서 중복 없이 숫자만 출력하는 함수를 만들어 주세요.\n",
    "text='홍길동 010-3113-0782'\n",
    "num=['0','1','2','3','4','5','6','7','8','9']\n",
    "A=[]\n",
    "for i in text:\n",
    "    if i in num:\n",
    "        if i not in A:\n",
    "            A.append(i)\n",
    "print(*A,sep=', ')\n"
   ]
  },
  {
   "cell_type": "code",
   "execution_count": 86,
   "metadata": {},
   "outputs": [
    {
     "name": "stdout",
     "output_type": "stream",
     "text": [
      "['2', '0', '1']\n"
     ]
    }
   ],
   "source": [
    "import re\n",
    "\n",
    "string =  '홍길동 010-1111-2222'\n",
    "numbers = re.sub('[^0-9]', '', string)\n",
    "list_a=list(set(numbers))\n",
    "print(list_a)\n",
    "# print(list_a[1],', ', list_a[2],', ', list_a[0])"
   ]
  },
  {
   "cell_type": "code",
   "execution_count": 92,
   "metadata": {},
   "outputs": [
    {
     "name": "stdout",
     "output_type": "stream",
     "text": [
      "- 2 8   동 3 홍 길 1 0 7\n"
     ]
    }
   ],
   "source": [
    "text='홍길동 010-3113-0782'\n",
    "print(*set(text))"
   ]
  },
  {
   "cell_type": "code",
   "execution_count": null,
   "metadata": {},
   "outputs": [],
   "source": [
    "while True:\n",
    "    string=input('메시지 입력:')\n",
    "    if string=='X' or string=='x':\n",
    "        break\n",
    "    number=list(filter(str.isdigit,string))\n",
    "    result=[]\n",
    "    for i in number:\n",
    "        if i not in result:\n",
    "            result.append(i)\n",
    "    print(result)"
   ]
  },
  {
   "cell_type": "code",
   "execution_count": 81,
   "metadata": {},
   "outputs": [
    {
     "name": "stdout",
     "output_type": "stream",
     "text": [
      "2, 0, 3\n",
      "2, 8, 3, 1, 0, 7\n",
      "<class 'list'>\n"
     ]
    }
   ],
   "source": [
    "def 출력(text):\n",
    "    A=list(set(filter(str.isdigit,text)))\n",
    "    print(*A,sep=', ')\n",
    "출력('happy 2023')\n",
    "출력('홍길동 010-3113-0782')\n",
    "print(type(A))"
   ]
  },
  {
   "cell_type": "code",
   "execution_count": 72,
   "metadata": {},
   "outputs": [
    {
     "name": "stdout",
     "output_type": "stream",
     "text": [
      "2, 0, 3\n",
      "2, 8, 3, 1, 0, 7\n"
     ]
    }
   ],
   "source": [
    "def 출력(text):\n",
    "    A=list(set(filter(str.isdigit,text)))\n",
    "    print(*A,sep=', ')\n",
    "출력('happy 2023')\n",
    "출력('홍길동 010-3113-0782')"
   ]
  },
  {
   "cell_type": "code",
   "execution_count": 89,
   "metadata": {},
   "outputs": [
    {
     "name": "stdout",
     "output_type": "stream",
     "text": [
      "당신의 한국 나이는 27세입니다.\n",
      "당신의 외국 나이는 26세입니다.\n"
     ]
    }
   ],
   "source": [
    "#9. 생일을 입력 받은 후 한국 나이, 외국 나이를 알려주는 함수를 생성해 주세요. \n",
    "생일='1996.07.01'\n",
    "num=['0','1','2','3','4','5','6','7','8','9']\n",
    "A=[]\n",
    "for i in 생일:\n",
    "    if i in num:\n",
    "        A.append(int(i))\n",
    "B=(A[0]*1000+A[1]*100+A[2]*10+A[3])\n",
    "print(f'당신의 한국 나이는 {2022-B+1}세입니다.')\n",
    "print(f'당신의 외국 나이는 {2022-B}세입니다.')"
   ]
  },
  {
   "cell_type": "code",
   "execution_count": 8,
   "metadata": {},
   "outputs": [
    {
     "name": "stdout",
     "output_type": "stream",
     "text": [
      "0! => 0\n"
     ]
    }
   ],
   "source": [
    "#10. 팩토리얼(Factorial)을 while반복문으로 구현해 주세요. 팩토리얼 수를 입력 받아서  팩토리얼 결과를 아래와 같이 출력하세요.\n",
    "\n",
    "A=1\n",
    "i=int(input('팩토리얼 수 입력: '))\n",
    "pre=i\n",
    "if i==0: print('0! => 0')\n",
    "else:\n",
    "    while i>0:\n",
    "        A=A*i\n",
    "        i=i-1\n",
    "    print(f'{pre}! => {A}')"
   ]
  },
  {
   "cell_type": "code",
   "execution_count": 24,
   "metadata": {},
   "outputs": [
    {
     "name": "stdout",
     "output_type": "stream",
     "text": [
      "1 ~ 30 범위에서 소수: 2, 3, 5, 7, 11, 13, 17, 19, 23, 29\n",
      "1 ~ 50 범위에서 소수: 2, 3, 5, 7, 11, 13, 17, 19, 23, 29, 31, 37, 41, 43, 47\n"
     ]
    }
   ],
   "source": [
    "#11. 입력받은 숫자 범위 안에서 소수(Prime Number)를 찾아서 반환하는 함수를 생성하세요.\n",
    "def prm(num):\n",
    "    B=[]\n",
    "    for i in range(1,num+1):\n",
    "        A=[]\n",
    "        for j in range(1,i+1):\n",
    "            if i%j==0: A.append(i)\n",
    "        if len(A)==2: B.append(i)\n",
    "    print(f'1 ~ {num} 범위에서 소수: ',end='')\n",
    "    print(*B,sep=', ')    \n",
    "\n",
    "prm(30)\n",
    "#prm(int(input('범위 숫자 입력 : )))"
   ]
  },
  {
   "cell_type": "code",
   "execution_count": 26,
   "metadata": {},
   "outputs": [
    {
     "name": "stdout",
     "output_type": "stream",
     "text": [
      "[국어] 최고 점수 : 94, 최저 점수 : 77\n",
      "[수학] 최고 점수 : 100, 최저 점수 : 71\n",
      "[윤리] 최고 점수 : 98, 최저 점수 : 80\n",
      "[국사] 최고 점수 : 99, 최저 점수 : 71\n"
     ]
    }
   ],
   "source": [
    "#12. 아래 데이터를 저장합니다. 그리고 과목별 최고점수, 최저점수 출력하세요.\n",
    "국어=[90,82,77,94,78]\n",
    "수학=[89,71,100,82,99]\n",
    "윤리=[98,80,92,93,91]\n",
    "국사=[99,91,90,71,83]\n",
    "과목=[국어,수학,윤리,국사]\n",
    "과목2=['국어','수학','윤리','국사']\n",
    "for i in range(0,len(과목)):\n",
    "    print(f'[{과목2[i]}] 최고 점수 : {max(과목[i])}, 최저 점수 : {min(과목[i])}')"
   ]
  },
  {
   "cell_type": "code",
   "execution_count": 44,
   "metadata": {},
   "outputs": [
    {
     "name": "stdout",
     "output_type": "stream",
     "text": [
      "--[1단]--\t--[2단]--\t--[3단]--\t--[4단]--\t--[5단]--\t--[6단]--\t--[7단]--\t\n",
      "1*1= 1\t\t2*1= 2\t\t3*1= 3\t\t4*1= 4\t\t5*1= 5\t\t6*1= 6\t\t7*1= 7\t\t\n",
      "1*2= 2\t\t2*2= 4\t\t3*2= 6\t\t4*2= 8\t\t5*2= 10\t\t6*2= 12\t\t7*2= 14\t\t\n",
      "1*3= 3\t\t2*3= 6\t\t3*3= 9\t\t4*3= 12\t\t5*3= 15\t\t6*3= 18\t\t7*3= 21\t\t\n",
      "1*4= 4\t\t2*4= 8\t\t3*4= 12\t\t4*4= 16\t\t5*4= 20\t\t6*4= 24\t\t7*4= 28\t\t\n",
      "1*5= 5\t\t2*5= 10\t\t3*5= 15\t\t4*5= 20\t\t5*5= 25\t\t6*5= 30\t\t7*5= 35\t\t\n",
      "1*6= 6\t\t2*6= 12\t\t3*6= 18\t\t4*6= 24\t\t5*6= 30\t\t6*6= 36\t\t7*6= 42\t\t\n",
      "1*7= 7\t\t2*7= 14\t\t3*7= 21\t\t4*7= 28\t\t5*7= 35\t\t6*7= 42\t\t7*7= 49\t\t\n",
      "1*8= 8\t\t2*8= 16\t\t3*8= 24\t\t4*8= 32\t\t5*8= 40\t\t6*8= 48\t\t7*8= 56\t\t\n",
      "1*9= 9\t\t2*9= 18\t\t3*9= 27\t\t4*9= 36\t\t5*9= 45\t\t6*9= 54\t\t7*9= 63\t\t\n"
     ]
    }
   ],
   "source": [
    "#13. 구구단 n단부터 m단까지를 반복문 1개로 구현하는 함수를 생성하세요.\n",
    "\n",
    "def 구구단(n,m):\n",
    "    l=n\n",
    "    k=1\n",
    "    switch=True\n",
    "    while k != 10:\n",
    "        if switch:\n",
    "            print(f'--[{l}단]--',end='\\t')\n",
    "            l=l+1\n",
    "            if l==m+1: switch=False; l=n; print()\n",
    "        if not switch:\n",
    "            print(f\"{l}*{k}= {l*k}\",end='\\t\\t')\n",
    "            l +=1\n",
    "            if l==m+1: l=n; k=k+1; print()\n",
    "구구단(1,7)"
   ]
  },
  {
   "cell_type": "code",
   "execution_count": 41,
   "metadata": {},
   "outputs": [
    {
     "name": "stdout",
     "output_type": "stream",
     "text": [
      "숫자 입력: 12345\n",
      "만의 자리 : 1\n",
      "천의 자리 : 2\n",
      "백의 자리 : 3\n",
      "십의 자리 : 4\n",
      "일의 자리 : 5\n"
     ]
    }
   ],
   "source": [
    "#14. 입력받은 숫자에서 천자리, 백자리, 십자리, 일자리를 출력하세요.\n",
    "data='12345'\n",
    "A=list(data)\n",
    "B=['만','천','백','십','일']\n",
    "print(f'숫자 입력: {data}')\n",
    "for i in range(0,len(A)):\n",
    "    print(f'{B[i]}의 자리 : {A[i]}')"
   ]
  },
  {
   "cell_type": "code",
   "execution_count": null,
   "metadata": {},
   "outputs": [],
   "source": [
    "#15. 정수, 실수, 논리, 문자열 등 데이터 입력 시 모두 덧셈한 결과 출력하는 함수를  생성하세요.\n",
    "def 덧셈(data):\n",
    "    if data"
   ]
  },
  {
   "cell_type": "code",
   "execution_count": 60,
   "metadata": {},
   "outputs": [
    {
     "name": "stdout",
     "output_type": "stream",
     "text": [
      "       *       \n",
      "      ***      \n",
      "     *****     \n",
      "    *******    \n",
      "   *********   \n",
      "  ***********  \n",
      " ************* \n",
      "***************\n",
      "      ****     \n",
      "      ****     \n",
      "Merry Chirstmas\n",
      "      2023     \n"
     ]
    }
   ],
   "source": [
    "#16. 아래 출력결과가 나오도록 코드를 작성하세요.\n",
    "n=1\n",
    "while n<=15:\n",
    "    print(('*'*n).center(15))\n",
    "    n=n+2\n",
    "print(('*'*4).center(15))\n",
    "print(('*'*4).center(15))\n",
    "print(('Merry Chirstmas').center(15))\n",
    "print(('2023').center(15))"
   ]
  },
  {
   "cell_type": "code",
   "execution_count": 70,
   "metadata": {},
   "outputs": [
    {
     "name": "stdout",
     "output_type": "stream",
     "text": [
      "Merry Christmas HaPPy New YEaR\n",
      "=> mERRY cHRISTMAS hAppY nEW yeAr\n"
     ]
    }
   ],
   "source": [
    "#17. 문자열 ‘Merry Christmas HaPPy New YEaR’에서 대문자는 소문자로, 소문자는 대문자로  변환하여 출력하는 코드를 구현하세요.\n",
    "text='Merry Christmas HaPPy New YEaR'\n",
    "A=[i.swapcase() for i in text]\n",
    "print(text,'\\n=> ',*A,sep='')"
   ]
  },
  {
   "cell_type": "code",
   "execution_count": 74,
   "metadata": {},
   "outputs": [
    {
     "name": "stdout",
     "output_type": "stream",
     "text": [
      "덧셈 결과: 15\n",
      "뺄셈 결과: 1\n",
      "곱셈 결과: 56\n",
      "나누기 결과: 1.1428571428571428\n",
      "몫 결과: 1\n",
      "나머지 결과: 1\n"
     ]
    }
   ],
   "source": [
    "#18. 6가지 연산 결과를 한꺼번에 반환하는 함수를 생성 후 호출하여 결과를 아래와 같이 출력해 주세요.\n",
    "def 계산(num1,num2):\n",
    "    print(f'덧셈 결과: {num1+num2}')\n",
    "    print(f'뺄셈 결과: {num1-num2}')\n",
    "    print(f'곱셈 결과: {num1*num2}')\n",
    "    print(f'나누기 결과: {num1/num2}')\n",
    "    print(f'몫 결과: {num1//num2}')\n",
    "    print(f'나머지 결과: {num1%num2}')\n",
    "\n",
    "계산(8,7)\n"
   ]
  },
  {
   "cell_type": "code",
   "execution_count": 78,
   "metadata": {},
   "outputs": [
    {
     "name": "stdout",
     "output_type": "stream",
     "text": [
      "age => 12\n",
      "job => hero\n",
      "phone => 01031130782\n"
     ]
    }
   ],
   "source": [
    "#19. 다양한 사람들로부터 개인정보를 입력받는 함수를 구현하세요.\n",
    "def data(**info):\n",
    "    for key,value in info.items():\n",
    "        print(key,'=>',value)\n",
    "\n",
    "data( age=12, job='hero', phone='01031130782')\n"
   ]
  },
  {
   "cell_type": "code",
   "execution_count": 22,
   "metadata": {},
   "outputs": [
    {
     "name": "stdout",
     "output_type": "stream",
     "text": [
      "------------------------------\n",
      "        <나의 계산기>        \n",
      "------------------------------\n",
      "1.입  력   2.덧  셈   3.뺄  셈\n",
      "4.곱  셈   2.나눗셈   3.종  료\n",
      "------------------------------\n",
      "메뉴 선택(1~6): 1\n",
      "숫자 2개 입력 :(예: 1, 7) 1,6\n",
      "------------------------------\n",
      "        <나의 계산기>        \n",
      "------------------------------\n",
      "1.입  력   2.덧  셈   3.뺄  셈\n",
      "4.곱  셈   2.나눗셈   3.종  료\n",
      "------------------------------\n",
      "메뉴 선택(1~6): 2\n",
      "1+6=7\n",
      "------------------------------\n",
      "        <나의 계산기>        \n",
      "------------------------------\n",
      "1.입  력   2.덧  셈   3.뺄  셈\n",
      "4.곱  셈   2.나눗셈   3.종  료\n",
      "------------------------------\n",
      "메뉴 선택(1~6): 3\n",
      "-5\n",
      "------------------------------\n",
      "        <나의 계산기>        \n",
      "------------------------------\n",
      "1.입  력   2.덧  셈   3.뺄  셈\n",
      "4.곱  셈   2.나눗셈   3.종  료\n",
      "------------------------------\n",
      "메뉴 선택(1~6): 4\n",
      "6\n",
      "------------------------------\n",
      "        <나의 계산기>        \n",
      "------------------------------\n",
      "1.입  력   2.덧  셈   3.뺄  셈\n",
      "4.곱  셈   2.나눗셈   3.종  료\n",
      "------------------------------\n",
      "메뉴 선택(1~6): 5\n",
      "0.16666666666666666\n",
      "------------------------------\n",
      "        <나의 계산기>        \n",
      "------------------------------\n",
      "1.입  력   2.덧  셈   3.뺄  셈\n",
      "4.곱  셈   2.나눗셈   3.종  료\n",
      "------------------------------\n",
      "메뉴 선택(1~6): 6\n",
      "나의 계산기 프로그램 종료\n"
     ]
    }
   ],
   "source": [
    "#20. [나의 계산기] 프로그램을 구현하세요.\n",
    "while True:\n",
    "    print('-'*30,('<나의 계산기>').center(24),'-'*30,sep='\\n')\n",
    "    print('1.입  력   2.덧  셈   3.뺄  셈')\n",
    "    print('4.곱  셈   2.나눗셈   3.종  료')\n",
    "    print('-'*30)\n",
    "    입력=int(input('메뉴 선택(1~6): '))\n",
    "    print('메뉴 선택(1~6):',입력)\n",
    "    if 입력==1:\n",
    "        a=input('숫자 2개 입력 :(예: 1, 7) ')\n",
    "        print(f'숫자 2개 입력 :(예: 1, 7) {a}')\n",
    "        A=[]\n",
    "        for i in a:\n",
    "            if i.isdigit():\n",
    "                A.append(int(i))\n",
    "    elif 입력==2:\n",
    "        print(f'{A[0]}+{A[1]}={A[0]+A[1]}')    \n",
    "    elif 입력==3:\n",
    "        print(A[0]-A[1])\n",
    "    elif 입력==4:\n",
    "        print(A[0]*A[1])\n",
    "    elif 입력==5:\n",
    "        print(A[0]/A[1])\n",
    "    elif 입력==6:\n",
    "        print('나의 계산기 프로그램 종료')\n",
    "        break"
   ]
  }
 ],
 "metadata": {
  "kernelspec": {
   "display_name": "Python 3.11.0 64-bit",
   "language": "python",
   "name": "python3"
  },
  "language_info": {
   "codemirror_mode": {
    "name": "ipython",
    "version": 3
   },
   "file_extension": ".py",
   "mimetype": "text/x-python",
   "name": "python",
   "nbconvert_exporter": "python",
   "pygments_lexer": "ipython3",
   "version": "3.11.0"
  },
  "orig_nbformat": 4,
  "vscode": {
   "interpreter": {
    "hash": "5238573367df39f7286bb46f9ff5f08f63a01a80960060ce41e3c79b190280fa"
   }
  }
 },
 "nbformat": 4,
 "nbformat_minor": 2
}
