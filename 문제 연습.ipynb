{
 "cells": [
  {
   "cell_type": "code",
   "execution_count": 4,
   "metadata": {},
   "outputs": [
    {
     "name": "stdout",
     "output_type": "stream",
     "text": [
      "정렬 결과: ['f', 'e', 'd', 'c', 'b', 'a']\n",
      "가장 높은 문자열: f, 가장 낮은 문자열: a\n"
     ]
    }
   ],
   "source": [
    "#1. 문자열 리스트를 입력 받아서 내림차순 결과 가장 낮은 문자열과 가장 높은 문자열을 출력하는 함수를 구현하세요.\n",
    "\n",
    "A=[]\n",
    "N=6\n",
    "for i in range(N):\n",
    "    A.append(input('입력: '))\n",
    "A.sort(reverse=True)\n",
    "print(f'정렬 결과: {A}\\n가장 높은 문자열: {A[0]}, 가장 낮은 문자열: {A[-1]}')"
   ]
  },
  {
   "cell_type": "code",
   "execution_count": 20,
   "metadata": {},
   "outputs": [
    {
     "name": "stdout",
     "output_type": "stream",
     "text": [
      "\"가나다\"의 인코딩: 0xac000xb0980xb2e4\n",
      "\"가나다\"의 인코딩: 0b10101100000000000b10110000100110000b1011001011100100\n"
     ]
    }
   ],
   "source": [
    "#2. 문자열을 입력하면 UTF-8로 인코딩된 값을 아래와 같이 출력된 함수를 구현해 주세요.\n",
    "text=input('입력: ')\n",
    "A=[hex(ord(i)) for i in text]\n",
    "B=[bin(ord(i)) for i in text]\n",
    "print(f'\\\"{text}\"의 인코딩: ',*A,sep='')\n",
    "print(f'\\\"{text}\"의 인코딩: ',*B,sep='')"
   ]
  },
  {
   "cell_type": "code",
   "execution_count": 25,
   "metadata": {},
   "outputs": [
    {
     "name": "stdout",
     "output_type": "stream",
     "text": [
      "\"1,234,2,98,18\"의 합:  38 , 가장 큰 수:  9 , 가장 작은 수:  1\n"
     ]
    }
   ],
   "source": [
    "#3. 숫자와 콤마로만 이루어진 문자열 data가 주어진다. 이때, data에 포함되어있는 자연 수의 합과 가장 작은 수, 가장 큰 수를 출력하는 함수를 구현하세요.\n",
    "data='1,234,2,98,18'\n",
    "A=[]\n",
    "num=['0','1','2','3','4','5','6','7','8','9']\n",
    "for i in data:\n",
    "    if i in num:\n",
    "        A.append(int(i))\n",
    "print(f'\\\"{data}\"의 합: ',sum(A),', 가장 큰 수: ',max(A),', 가장 작은 수: ',min(A))"
   ]
  },
  {
   "cell_type": "code",
   "execution_count": 29,
   "metadata": {},
   "outputs": [
    {
     "name": "stdout",
     "output_type": "stream",
     "text": [
      "1#3#567#91011#13#151617#1920\n",
      "21#23#252627#293031#33#353637#3940\n",
      "41#43#454647#495051#53#555657#5960\n",
      "61#63#656667#697071#73#757677#7980\n",
      "81#83#858687#899091#93#959697#99100\n"
     ]
    }
   ],
   "source": [
    "#4. 2, 4, 8 게임은 숫자의 끝 자리가 2, 4, 8로 끝나는 숫자의 경우 다른 문자로 출력하는 게임으로 아래 조건을 만족하도록 구현하자.\n",
    "num=int(input('숫자 입력: '))\n",
    "for i in range(1,num+1):\n",
    "    if i%10 in [2,4,8]:\n",
    "        print('#',end='')\n",
    "    elif i%20==0:\n",
    "        print(i)\n",
    "    else: print(i,end='')"
   ]
  },
  {
   "cell_type": "code",
   "execution_count": 53,
   "metadata": {},
   "outputs": [
    {
     "name": "stdout",
     "output_type": "stream",
     "text": [
      "존재하지 않는 월입니다.\n"
     ]
    }
   ],
   "source": [
    "#5. 월(Month)을 입력 받아 해당 월(Month)의 영어와 계절을 출력하는 코드를 작성하세요.\n",
    "월=int(input('좋아하는 월 입력: '))\n",
    "mon=['Jan','Feb','Mar','Apr','May','Jun','Jul','Aug','Sep','Oct','Nov','Dec']\n",
    "if 월 in [3,4,5]: print(mon[월-1],'Spring')\n",
    "elif 월 in [6,7,8]: print(mon[월-1],'Summer')\n",
    "elif 월 in [9,10,11]: print(mon[월-1],'Fall')\n",
    "elif 월 in [12,1,2]: print(mon[월-1],'Winter')\n",
    "else: print('존재하지 않는 월입니다.')"
   ]
  },
  {
   "cell_type": "code",
   "execution_count": 71,
   "metadata": {},
   "outputs": [
    {
     "name": "stdout",
     "output_type": "stream",
     "text": [
      "123,456$\n"
     ]
    }
   ],
   "source": [
    "#6. 숫자와 화폐단위를 입력 받아 세자리 마다 쉼표(,) 찍어서 출력하는 기능을 구현하세요.\n",
    "\n",
    "def fun(num,unit):\n",
    "    print(format(int(num), ','),end='')\n",
    "    print(unit)\n",
    "A=('123456')\n",
    "B='$'\n",
    "fun(A,B)"
   ]
  },
  {
   "cell_type": "code",
   "execution_count": 77,
   "metadata": {},
   "outputs": [
    {
     "name": "stdout",
     "output_type": "stream",
     "text": [
      "8의 약수: 1,2,4,8\n"
     ]
    }
   ],
   "source": [
    "#7. 입력받은 정수에 대한 약수를 출력하는 함수를 만들어 주세요.\n",
    "A=int(input('약수 구하고 싶은 수: '))\n",
    "B=[]\n",
    "for i in range(1,A+1):\n",
    "    if A%i==0:\n",
    "        B.append(i)\n",
    "print(f'{A}의 약수: ',end='')\n",
    "print(*B,sep=',')"
   ]
  },
  {
   "cell_type": "code",
   "execution_count": 83,
   "metadata": {},
   "outputs": [
    {
     "name": "stdout",
     "output_type": "stream",
     "text": [
      "0, 1, 3, 7, 8, 2\n"
     ]
    }
   ],
   "source": [
    "#8. 입력 받은 메시지 중에서 중복 없이 숫자만 출력하는 함수를 만들어 주세요.\n",
    "text='홍길동 010-3113-0782'\n",
    "num=['0','1','2','3','4','5','6','7','8','9']\n",
    "A=[]\n",
    "for i in text:\n",
    "    if i in num:\n",
    "        if i not in A:\n",
    "            A.append(i)\n",
    "print(*A,sep=', ')\n"
   ]
  },
  {
   "cell_type": "code",
   "execution_count": 89,
   "metadata": {},
   "outputs": [
    {
     "name": "stdout",
     "output_type": "stream",
     "text": [
      "당신의 한국 나이는 27세입니다.\n",
      "당신의 외국 나이는 26세입니다.\n"
     ]
    }
   ],
   "source": [
    "#9. 생일을 입력 받은 후 한국 나이, 외국 나이를 알려주는 함수를 생성해 주세요. \n",
    "생일='1996.07.01'\n",
    "num=['0','1','2','3','4','5','6','7','8','9']\n",
    "A=[]\n",
    "for i in 생일:\n",
    "    if i in num:\n",
    "        A.append(int(i))\n",
    "B=(A[0]*1000+A[1]*100+A[2]*10+A[3])\n",
    "print(f'당신의 한국 나이는 {2022-B+1}세입니다.')\n",
    "print(f'당신의 외국 나이는 {2022-B}세입니다.')"
   ]
  },
  {
   "cell_type": "code",
   "execution_count": null,
   "metadata": {},
   "outputs": [],
   "source": [
    "#10. 팩토리얼(Factorial)을 while반복문으로 구현해 주세요. 팩토리얼 수를 입력 받아서  팩토리얼 결과를 아래와 같이 출력하세요.\n",
    "\n"
   ]
  },
  {
   "cell_type": "code",
   "execution_count": null,
   "metadata": {},
   "outputs": [],
   "source": [
    "#11. 입력받은 숫자 범위 안에서 소수(Prime Number)를 찾아서 반환하는 함수를 생성하세요.\n",
    "\n"
   ]
  },
  {
   "cell_type": "code",
   "execution_count": null,
   "metadata": {},
   "outputs": [],
   "source": [
    "#12. 아래 데이터를 저장합니다. 그리고 과목별 최고점수, 최저점수 출력하세요.\n",
    "\n"
   ]
  },
  {
   "cell_type": "code",
   "execution_count": null,
   "metadata": {},
   "outputs": [],
   "source": [
    "#13. 구구단 n단부터 m단까지를 반복문 1개로 구현하는 함수를 생성하세요.\n",
    "\n"
   ]
  },
  {
   "cell_type": "code",
   "execution_count": null,
   "metadata": {},
   "outputs": [],
   "source": [
    "#14. 입력받은 숫자에서 천자리, 백자리, 십자리, 일자리를 출력하세요.\n",
    "\n"
   ]
  },
  {
   "cell_type": "code",
   "execution_count": null,
   "metadata": {},
   "outputs": [],
   "source": [
    "#15. 정수, 실수, 논리, 문자열 등 데이터 입력 시 모두 덧셈한 결과 출력하는 함수를  생성하세요.\n",
    "\n"
   ]
  },
  {
   "cell_type": "code",
   "execution_count": null,
   "metadata": {},
   "outputs": [],
   "source": [
    "#16. 아래 출력결과가 나오도록 코드를 작성하세요.\n"
   ]
  },
  {
   "cell_type": "code",
   "execution_count": null,
   "metadata": {},
   "outputs": [],
   "source": [
    "#17. 문자열 ‘Merry Christmas HaPPy New YEaR’에서 대문자는 소문자로, 소문자는 대문자로  변환하여 출력하는 코드를 구현하세요.\n"
   ]
  },
  {
   "cell_type": "code",
   "execution_count": null,
   "metadata": {},
   "outputs": [],
   "source": [
    "#18. 6가지 연산 결과를 한꺼번에 반환하는 함수를 생성 후 호출하여 결과를 아래와 같이 출력해 주세요.\n",
    "\n",
    "\n"
   ]
  },
  {
   "cell_type": "code",
   "execution_count": null,
   "metadata": {},
   "outputs": [],
   "source": [
    "#19. 다양한 사람들로부터 개인정보를 입력받는 함수를 구현하세요.\n"
   ]
  }
 ],
 "metadata": {
  "kernelspec": {
   "display_name": "Python 3.11.0 64-bit",
   "language": "python",
   "name": "python3"
  },
  "language_info": {
   "codemirror_mode": {
    "name": "ipython",
    "version": 3
   },
   "file_extension": ".py",
   "mimetype": "text/x-python",
   "name": "python",
   "nbconvert_exporter": "python",
   "pygments_lexer": "ipython3",
   "version": "3.11.0"
  },
  "orig_nbformat": 4,
  "vscode": {
   "interpreter": {
    "hash": "5238573367df39f7286bb46f9ff5f08f63a01a80960060ce41e3c79b190280fa"
   }
  }
 },
 "nbformat": 4,
 "nbformat_minor": 2
}
